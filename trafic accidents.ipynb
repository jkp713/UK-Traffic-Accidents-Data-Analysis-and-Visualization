{
 "cells": [
  {
   "cell_type": "markdown",
   "id": "fad07b3c-8553-4d30-94f1-2f894de23da4",
   "metadata": {},
   "source": [
    "## UK Traffic Accidents Data Analysis and Visualization"
   ]
  },
  {
   "cell_type": "markdown",
   "id": "ea0c313f-72b8-417f-8989-a139117f20ee",
   "metadata": {},
   "source": [
    "The traffic accidents data of UK, belonging to the years of 2012, 2013 and 2014 will be analyzed and visualized in that study. The data is retreived from Kaggle. "
   ]
  },
  {
   "cell_type": "code",
   "execution_count": 6,
   "id": "5d4a79b3-77ad-4ae2-bc64-42c958f761f0",
   "metadata": {},
   "outputs": [],
   "source": [
    "import numpy as np\n",
    "import pandas as pd\n",
    "import seaborn as sns\n",
    "\n",
    "from matplotlib import pyplot as plt"
   ]
  },
  {
   "cell_type": "code",
   "execution_count": 3,
   "id": "eebac7a1-f3d3-4e6d-b985-41e05afe11ee",
   "metadata": {},
   "outputs": [],
   "source": [
    "cols = np.arange(9, 31, 1)"
   ]
  },
  {
   "cell_type": "code",
   "execution_count": 4,
   "id": "918e8e83-40b6-4cff-ba45-7eb61b409e6c",
   "metadata": {},
   "outputs": [
    {
     "data": {
      "text/plain": [
       "array([ 9, 10, 11, 12, 13, 14, 15, 16, 17, 18, 19, 20, 21, 22, 23, 24, 25,\n",
       "       26, 27, 28, 29, 30])"
      ]
     },
     "execution_count": 4,
     "metadata": {},
     "output_type": "execute_result"
    }
   ],
   "source": [
    "cols"
   ]
  },
  {
   "cell_type": "code",
   "execution_count": 5,
   "id": "e19321df-4ee3-46fb-a210-d84f5631ab2c",
   "metadata": {},
   "outputs": [],
   "source": [
    "df = pd.read_csv('accidents.csv', usecols = cols)"
   ]
  },
  {
   "cell_type": "code",
   "execution_count": 5,
   "id": "e8900ec4-81e3-48fe-803f-7b8f8e36ca4d",
   "metadata": {},
   "outputs": [
    {
     "data": {
      "text/html": [
       "<div>\n",
       "<style scoped>\n",
       "    .dataframe tbody tr th:only-of-type {\n",
       "        vertical-align: middle;\n",
       "    }\n",
       "\n",
       "    .dataframe tbody tr th {\n",
       "        vertical-align: top;\n",
       "    }\n",
       "\n",
       "    .dataframe thead th {\n",
       "        text-align: right;\n",
       "    }\n",
       "</style>\n",
       "<table border=\"1\" class=\"dataframe\">\n",
       "  <thead>\n",
       "    <tr style=\"text-align: right;\">\n",
       "      <th></th>\n",
       "      <th>Date</th>\n",
       "      <th>Day_of_Week</th>\n",
       "      <th>Time</th>\n",
       "      <th>Local_Authority_(District)</th>\n",
       "      <th>Local_Authority_(Highway)</th>\n",
       "      <th>1st_Road_Class</th>\n",
       "      <th>1st_Road_Number</th>\n",
       "      <th>Road_Type</th>\n",
       "      <th>Speed_limit</th>\n",
       "      <th>Junction_Detail</th>\n",
       "      <th>...</th>\n",
       "      <th>2nd_Road_Number</th>\n",
       "      <th>Pedestrian_Crossing-Human_Control</th>\n",
       "      <th>Pedestrian_Crossing-Physical_Facilities</th>\n",
       "      <th>Light_Conditions</th>\n",
       "      <th>Weather_Conditions</th>\n",
       "      <th>Road_Surface_Conditions</th>\n",
       "      <th>Special_Conditions_at_Site</th>\n",
       "      <th>Carriageway_Hazards</th>\n",
       "      <th>Urban_or_Rural_Area</th>\n",
       "      <th>Did_Police_Officer_Attend_Scene_of_Accident</th>\n",
       "    </tr>\n",
       "  </thead>\n",
       "  <tbody>\n",
       "    <tr>\n",
       "      <th>0</th>\n",
       "      <td>19/01/2012</td>\n",
       "      <td>5</td>\n",
       "      <td>20:35</td>\n",
       "      <td>12</td>\n",
       "      <td>E09000020</td>\n",
       "      <td>3</td>\n",
       "      <td>308</td>\n",
       "      <td>Single carriageway</td>\n",
       "      <td>30</td>\n",
       "      <td>NaN</td>\n",
       "      <td>...</td>\n",
       "      <td>0</td>\n",
       "      <td>None within 50 metres</td>\n",
       "      <td>Pedestrian phase at traffic signal junction</td>\n",
       "      <td>Darkness: Street lights present and lit</td>\n",
       "      <td>Fine without high winds</td>\n",
       "      <td>Dry</td>\n",
       "      <td>None</td>\n",
       "      <td>None</td>\n",
       "      <td>1</td>\n",
       "      <td>Yes</td>\n",
       "    </tr>\n",
       "    <tr>\n",
       "      <th>1</th>\n",
       "      <td>04/01/2012</td>\n",
       "      <td>4</td>\n",
       "      <td>17:00</td>\n",
       "      <td>1</td>\n",
       "      <td>E09000033</td>\n",
       "      <td>4</td>\n",
       "      <td>412</td>\n",
       "      <td>Single carriageway</td>\n",
       "      <td>30</td>\n",
       "      <td>NaN</td>\n",
       "      <td>...</td>\n",
       "      <td>0</td>\n",
       "      <td>None within 50 metres</td>\n",
       "      <td>No physical crossing within 50 meters</td>\n",
       "      <td>Darkness: Street lights present and lit</td>\n",
       "      <td>Fine without high winds</td>\n",
       "      <td>Dry</td>\n",
       "      <td>None</td>\n",
       "      <td>None</td>\n",
       "      <td>1</td>\n",
       "      <td>Yes</td>\n",
       "    </tr>\n",
       "    <tr>\n",
       "      <th>2</th>\n",
       "      <td>10/01/2012</td>\n",
       "      <td>3</td>\n",
       "      <td>10:07</td>\n",
       "      <td>12</td>\n",
       "      <td>E09000020</td>\n",
       "      <td>3</td>\n",
       "      <td>3220</td>\n",
       "      <td>One way street</td>\n",
       "      <td>30</td>\n",
       "      <td>NaN</td>\n",
       "      <td>...</td>\n",
       "      <td>0</td>\n",
       "      <td>None within 50 metres</td>\n",
       "      <td>non-junction pedestrian crossing</td>\n",
       "      <td>Daylight: Street light present</td>\n",
       "      <td>Fine without high winds</td>\n",
       "      <td>Dry</td>\n",
       "      <td>None</td>\n",
       "      <td>None</td>\n",
       "      <td>1</td>\n",
       "      <td>Yes</td>\n",
       "    </tr>\n",
       "    <tr>\n",
       "      <th>3</th>\n",
       "      <td>18/01/2012</td>\n",
       "      <td>4</td>\n",
       "      <td>12:20</td>\n",
       "      <td>12</td>\n",
       "      <td>E09000020</td>\n",
       "      <td>5</td>\n",
       "      <td>0</td>\n",
       "      <td>Single carriageway</td>\n",
       "      <td>30</td>\n",
       "      <td>NaN</td>\n",
       "      <td>...</td>\n",
       "      <td>0</td>\n",
       "      <td>None within 50 metres</td>\n",
       "      <td>No physical crossing within 50 meters</td>\n",
       "      <td>Daylight: Street light present</td>\n",
       "      <td>Fine without high winds</td>\n",
       "      <td>Dry</td>\n",
       "      <td>None</td>\n",
       "      <td>None</td>\n",
       "      <td>1</td>\n",
       "      <td>Yes</td>\n",
       "    </tr>\n",
       "    <tr>\n",
       "      <th>4</th>\n",
       "      <td>17/01/2012</td>\n",
       "      <td>3</td>\n",
       "      <td>20:24</td>\n",
       "      <td>12</td>\n",
       "      <td>E09000020</td>\n",
       "      <td>4</td>\n",
       "      <td>325</td>\n",
       "      <td>Single carriageway</td>\n",
       "      <td>30</td>\n",
       "      <td>NaN</td>\n",
       "      <td>...</td>\n",
       "      <td>0</td>\n",
       "      <td>None within 50 metres</td>\n",
       "      <td>No physical crossing within 50 meters</td>\n",
       "      <td>Darkness: Street lights present and lit</td>\n",
       "      <td>Fine without high winds</td>\n",
       "      <td>Dry</td>\n",
       "      <td>None</td>\n",
       "      <td>None</td>\n",
       "      <td>1</td>\n",
       "      <td>Yes</td>\n",
       "    </tr>\n",
       "  </tbody>\n",
       "</table>\n",
       "<p>5 rows × 22 columns</p>\n",
       "</div>"
      ],
      "text/plain": [
       "         Date  Day_of_Week   Time  Local_Authority_(District)  \\\n",
       "0  19/01/2012            5  20:35                          12   \n",
       "1  04/01/2012            4  17:00                           1   \n",
       "2  10/01/2012            3  10:07                          12   \n",
       "3  18/01/2012            4  12:20                          12   \n",
       "4  17/01/2012            3  20:24                          12   \n",
       "\n",
       "  Local_Authority_(Highway)  1st_Road_Class  1st_Road_Number  \\\n",
       "0                 E09000020               3              308   \n",
       "1                 E09000033               4              412   \n",
       "2                 E09000020               3             3220   \n",
       "3                 E09000020               5                0   \n",
       "4                 E09000020               4              325   \n",
       "\n",
       "            Road_Type  Speed_limit  Junction_Detail  ... 2nd_Road_Number  \\\n",
       "0  Single carriageway           30              NaN  ...               0   \n",
       "1  Single carriageway           30              NaN  ...               0   \n",
       "2      One way street           30              NaN  ...               0   \n",
       "3  Single carriageway           30              NaN  ...               0   \n",
       "4  Single carriageway           30              NaN  ...               0   \n",
       "\n",
       "   Pedestrian_Crossing-Human_Control  \\\n",
       "0              None within 50 metres   \n",
       "1              None within 50 metres   \n",
       "2              None within 50 metres   \n",
       "3              None within 50 metres   \n",
       "4              None within 50 metres   \n",
       "\n",
       "       Pedestrian_Crossing-Physical_Facilities  \\\n",
       "0  Pedestrian phase at traffic signal junction   \n",
       "1        No physical crossing within 50 meters   \n",
       "2             non-junction pedestrian crossing   \n",
       "3        No physical crossing within 50 meters   \n",
       "4        No physical crossing within 50 meters   \n",
       "\n",
       "                          Light_Conditions       Weather_Conditions  \\\n",
       "0  Darkness: Street lights present and lit  Fine without high winds   \n",
       "1  Darkness: Street lights present and lit  Fine without high winds   \n",
       "2           Daylight: Street light present  Fine without high winds   \n",
       "3           Daylight: Street light present  Fine without high winds   \n",
       "4  Darkness: Street lights present and lit  Fine without high winds   \n",
       "\n",
       "  Road_Surface_Conditions Special_Conditions_at_Site Carriageway_Hazards  \\\n",
       "0                     Dry                       None                None   \n",
       "1                     Dry                       None                None   \n",
       "2                     Dry                       None                None   \n",
       "3                     Dry                       None                None   \n",
       "4                     Dry                       None                None   \n",
       "\n",
       "  Urban_or_Rural_Area Did_Police_Officer_Attend_Scene_of_Accident  \n",
       "0                   1                                         Yes  \n",
       "1                   1                                         Yes  \n",
       "2                   1                                         Yes  \n",
       "3                   1                                         Yes  \n",
       "4                   1                                         Yes  \n",
       "\n",
       "[5 rows x 22 columns]"
      ]
     },
     "execution_count": 5,
     "metadata": {},
     "output_type": "execute_result"
    }
   ],
   "source": [
    "df.head()"
   ]
  },
  {
   "cell_type": "code",
   "execution_count": 6,
   "id": "6c36207a-a8b9-4d79-8151-d1f430a3add0",
   "metadata": {},
   "outputs": [
    {
     "data": {
      "text/plain": [
       "(464697, 22)"
      ]
     },
     "execution_count": 6,
     "metadata": {},
     "output_type": "execute_result"
    }
   ],
   "source": [
    "df.shape"
   ]
  },
  {
   "cell_type": "code",
   "execution_count": 7,
   "id": "fd89d3c6-ae1f-47f2-9093-c404cb1001d1",
   "metadata": {},
   "outputs": [
    {
     "data": {
      "text/plain": [
       "10223334"
      ]
     },
     "execution_count": 7,
     "metadata": {},
     "output_type": "execute_result"
    }
   ],
   "source": [
    "df.size"
   ]
  },
  {
   "cell_type": "code",
   "execution_count": 20,
   "id": "92fabbb9-1ad8-4cc6-b57f-fc1781d7aee5",
   "metadata": {},
   "outputs": [
    {
     "data": {
      "text/plain": [
       "Date                                            object\n",
       "Day_of_Week                                      int64\n",
       "Time                                            object\n",
       "Local_Authority_(District)                       int64\n",
       "Local_Authority_(Highway)                       object\n",
       "1st_Road_Class                                   int64\n",
       "1st_Road_Number                                  int64\n",
       "Road_Type                                       object\n",
       "Speed_limit                                      int64\n",
       "Junction_Detail                                float64\n",
       "Junction_Control                                object\n",
       "2nd_Road_Class                                   int64\n",
       "2nd_Road_Number                                  int64\n",
       "Pedestrian_Crossing-Human_Control               object\n",
       "Pedestrian_Crossing-Physical_Facilities         object\n",
       "Light_Conditions                                object\n",
       "Weather_Conditions                              object\n",
       "Road_Surface_Conditions                         object\n",
       "Special_Conditions_at_Site                      object\n",
       "Carriageway_Hazards                             object\n",
       "Urban_or_Rural_Area                              int64\n",
       "Did_Police_Officer_Attend_Scene_of_Accident     object\n",
       "dtype: object"
      ]
     },
     "execution_count": 20,
     "metadata": {},
     "output_type": "execute_result"
    }
   ],
   "source": [
    "df.dtypes"
   ]
  },
  {
   "cell_type": "code",
   "execution_count": 28,
   "id": "05519f19-e78f-427a-9e9f-63b0472d5107",
   "metadata": {},
   "outputs": [
    {
     "data": {
      "text/plain": [
       "Date                                                0\n",
       "Day_of_Week                                         0\n",
       "Time                                               13\n",
       "Local_Authority_(District)                          0\n",
       "Local_Authority_(Highway)                           0\n",
       "1st_Road_Class                                      0\n",
       "1st_Road_Number                                     0\n",
       "Road_Type                                           0\n",
       "Speed_limit                                         0\n",
       "Junction_Detail                                464697\n",
       "Junction_Control                               178610\n",
       "2nd_Road_Class                                      0\n",
       "2nd_Road_Number                                     0\n",
       "Pedestrian_Crossing-Human_Control                   0\n",
       "Pedestrian_Crossing-Physical_Facilities             0\n",
       "Light_Conditions                                    0\n",
       "Weather_Conditions                                  0\n",
       "Road_Surface_Conditions                           755\n",
       "Special_Conditions_at_Site                          2\n",
       "Carriageway_Hazards                                 3\n",
       "Urban_or_Rural_Area                                 0\n",
       "Did_Police_Officer_Attend_Scene_of_Accident         2\n",
       "dtype: int64"
      ]
     },
     "execution_count": 28,
     "metadata": {},
     "output_type": "execute_result"
    }
   ],
   "source": [
    "df.isnull().sum()"
   ]
  },
  {
   "cell_type": "code",
   "execution_count": 54,
   "id": "284fc83e-391d-4301-85f2-93fe2121a706",
   "metadata": {},
   "outputs": [
    {
     "data": {
      "text/html": [
       "<div>\n",
       "<style scoped>\n",
       "    .dataframe tbody tr th:only-of-type {\n",
       "        vertical-align: middle;\n",
       "    }\n",
       "\n",
       "    .dataframe tbody tr th {\n",
       "        vertical-align: top;\n",
       "    }\n",
       "\n",
       "    .dataframe thead th {\n",
       "        text-align: right;\n",
       "    }\n",
       "</style>\n",
       "<table border=\"1\" class=\"dataframe\">\n",
       "  <thead>\n",
       "    <tr style=\"text-align: right;\">\n",
       "      <th></th>\n",
       "      <th>count</th>\n",
       "      <th>mean</th>\n",
       "      <th>std</th>\n",
       "      <th>min</th>\n",
       "      <th>25%</th>\n",
       "      <th>50%</th>\n",
       "      <th>75%</th>\n",
       "      <th>max</th>\n",
       "    </tr>\n",
       "  </thead>\n",
       "  <tbody>\n",
       "    <tr>\n",
       "      <th>Day_of_Week</th>\n",
       "      <td>464697.0</td>\n",
       "      <td>4.108740</td>\n",
       "      <td>1.916429</td>\n",
       "      <td>1.0</td>\n",
       "      <td>2.0</td>\n",
       "      <td>4.0</td>\n",
       "      <td>6.0</td>\n",
       "      <td>7.0</td>\n",
       "    </tr>\n",
       "    <tr>\n",
       "      <th>Local_Authority_(District)</th>\n",
       "      <td>464697.0</td>\n",
       "      <td>329.123829</td>\n",
       "      <td>259.222621</td>\n",
       "      <td>1.0</td>\n",
       "      <td>95.0</td>\n",
       "      <td>300.0</td>\n",
       "      <td>511.0</td>\n",
       "      <td>941.0</td>\n",
       "    </tr>\n",
       "    <tr>\n",
       "      <th>1st_Road_Class</th>\n",
       "      <td>464697.0</td>\n",
       "      <td>4.070136</td>\n",
       "      <td>1.413850</td>\n",
       "      <td>1.0</td>\n",
       "      <td>3.0</td>\n",
       "      <td>3.0</td>\n",
       "      <td>6.0</td>\n",
       "      <td>6.0</td>\n",
       "    </tr>\n",
       "    <tr>\n",
       "      <th>1st_Road_Number</th>\n",
       "      <td>464697.0</td>\n",
       "      <td>1012.728324</td>\n",
       "      <td>1810.523701</td>\n",
       "      <td>0.0</td>\n",
       "      <td>0.0</td>\n",
       "      <td>147.0</td>\n",
       "      <td>759.0</td>\n",
       "      <td>9999.0</td>\n",
       "    </tr>\n",
       "    <tr>\n",
       "      <th>Speed_limit</th>\n",
       "      <td>464697.0</td>\n",
       "      <td>38.229793</td>\n",
       "      <td>13.800546</td>\n",
       "      <td>10.0</td>\n",
       "      <td>30.0</td>\n",
       "      <td>30.0</td>\n",
       "      <td>40.0</td>\n",
       "      <td>70.0</td>\n",
       "    </tr>\n",
       "    <tr>\n",
       "      <th>Junction_Detail</th>\n",
       "      <td>0.0</td>\n",
       "      <td>NaN</td>\n",
       "      <td>NaN</td>\n",
       "      <td>NaN</td>\n",
       "      <td>NaN</td>\n",
       "      <td>NaN</td>\n",
       "      <td>NaN</td>\n",
       "      <td>NaN</td>\n",
       "    </tr>\n",
       "    <tr>\n",
       "      <th>2nd_Road_Class</th>\n",
       "      <td>464697.0</td>\n",
       "      <td>2.786293</td>\n",
       "      <td>3.187084</td>\n",
       "      <td>-1.0</td>\n",
       "      <td>-1.0</td>\n",
       "      <td>3.0</td>\n",
       "      <td>6.0</td>\n",
       "      <td>6.0</td>\n",
       "    </tr>\n",
       "    <tr>\n",
       "      <th>2nd_Road_Number</th>\n",
       "      <td>464697.0</td>\n",
       "      <td>380.952317</td>\n",
       "      <td>1289.786824</td>\n",
       "      <td>-1.0</td>\n",
       "      <td>0.0</td>\n",
       "      <td>0.0</td>\n",
       "      <td>0.0</td>\n",
       "      <td>9999.0</td>\n",
       "    </tr>\n",
       "    <tr>\n",
       "      <th>Urban_or_Rural_Area</th>\n",
       "      <td>464697.0</td>\n",
       "      <td>1.337426</td>\n",
       "      <td>0.472832</td>\n",
       "      <td>1.0</td>\n",
       "      <td>1.0</td>\n",
       "      <td>1.0</td>\n",
       "      <td>2.0</td>\n",
       "      <td>2.0</td>\n",
       "    </tr>\n",
       "  </tbody>\n",
       "</table>\n",
       "</div>"
      ],
      "text/plain": [
       "                               count         mean          std   min   25%  \\\n",
       "Day_of_Week                 464697.0     4.108740     1.916429   1.0   2.0   \n",
       "Local_Authority_(District)  464697.0   329.123829   259.222621   1.0  95.0   \n",
       "1st_Road_Class              464697.0     4.070136     1.413850   1.0   3.0   \n",
       "1st_Road_Number             464697.0  1012.728324  1810.523701   0.0   0.0   \n",
       "Speed_limit                 464697.0    38.229793    13.800546  10.0  30.0   \n",
       "Junction_Detail                  0.0          NaN          NaN   NaN   NaN   \n",
       "2nd_Road_Class              464697.0     2.786293     3.187084  -1.0  -1.0   \n",
       "2nd_Road_Number             464697.0   380.952317  1289.786824  -1.0   0.0   \n",
       "Urban_or_Rural_Area         464697.0     1.337426     0.472832   1.0   1.0   \n",
       "\n",
       "                              50%    75%     max  \n",
       "Day_of_Week                   4.0    6.0     7.0  \n",
       "Local_Authority_(District)  300.0  511.0   941.0  \n",
       "1st_Road_Class                3.0    6.0     6.0  \n",
       "1st_Road_Number             147.0  759.0  9999.0  \n",
       "Speed_limit                  30.0   40.0    70.0  \n",
       "Junction_Detail               NaN    NaN     NaN  \n",
       "2nd_Road_Class                3.0    6.0     6.0  \n",
       "2nd_Road_Number               0.0    0.0  9999.0  \n",
       "Urban_or_Rural_Area           1.0    2.0     2.0  "
      ]
     },
     "execution_count": 54,
     "metadata": {},
     "output_type": "execute_result"
    }
   ],
   "source": [
    "df.describe().T"
   ]
  },
  {
   "cell_type": "code",
   "execution_count": 8,
   "id": "c100ce5c-c19b-4950-bd6c-92083bff13d8",
   "metadata": {},
   "outputs": [
    {
     "data": {
      "text/plain": [
       "Urban_or_Rural_Area\n",
       "1    307896\n",
       "2    156801\n",
       "Name: Date, dtype: int64"
      ]
     },
     "execution_count": 8,
     "metadata": {},
     "output_type": "execute_result"
    }
   ],
   "source": [
    "df.groupby(['Urban_or_Rural_Area'])['Date'].count()"
   ]
  },
  {
   "cell_type": "code",
   "execution_count": 11,
   "id": "4eca82ee-c9ae-41e4-9ede-b5dda9d40f4e",
   "metadata": {},
   "outputs": [
    {
     "data": {
      "image/png": "[encoded data removed]",
      "text/plain": [
       "<Figure size 432x288 with 1 Axes>"
      ]
     },
     "metadata": {
      "needs_background": "light"
     },
     "output_type": "display_data"
    }
   ],
   "source": [
    "sns.countplot(x=\"Urban_or_Rural_Area\", data=df);"
   ]
  },
  {
   "cell_type": "code",
   "execution_count": 119,
   "id": "c9e61514-f4b4-4305-9cd6-2f3330ee4647",
   "metadata": {},
   "outputs": [],
   "source": [
    "area = df.groupby(['Urban_or_Rural_Area'])['Date'].count()"
   ]
  },
  {
   "cell_type": "code",
   "execution_count": 120,
   "id": "c1ebdf6d-cd0f-42e5-bfb2-2ecc807200ef",
   "metadata": {},
   "outputs": [],
   "source": [
    "area = pd.DataFrame(area)"
   ]
  },
  {
   "cell_type": "code",
   "execution_count": 121,
   "id": "88126f91-093d-4137-8886-b6259c2104d8",
   "metadata": {},
   "outputs": [
    {
     "data": {
      "text/html": [
       "<div>\n",
       "<style scoped>\n",
       "    .dataframe tbody tr th:only-of-type {\n",
       "        vertical-align: middle;\n",
       "    }\n",
       "\n",
       "    .dataframe tbody tr th {\n",
       "        vertical-align: top;\n",
       "    }\n",
       "\n",
       "    .dataframe thead th {\n",
       "        text-align: right;\n",
       "    }\n",
       "</style>\n",
       "<table border=\"1\" class=\"dataframe\">\n",
       "  <thead>\n",
       "    <tr style=\"text-align: right;\">\n",
       "      <th></th>\n",
       "      <th>Date</th>\n",
       "    </tr>\n",
       "    <tr>\n",
       "      <th>Urban_or_Rural_Area</th>\n",
       "      <th></th>\n",
       "    </tr>\n",
       "  </thead>\n",
       "  <tbody>\n",
       "    <tr>\n",
       "      <th>1</th>\n",
       "      <td>307896</td>\n",
       "    </tr>\n",
       "    <tr>\n",
       "      <th>2</th>\n",
       "      <td>156801</td>\n",
       "    </tr>\n",
       "  </tbody>\n",
       "</table>\n",
       "</div>"
      ],
      "text/plain": [
       "                       Date\n",
       "Urban_or_Rural_Area        \n",
       "1                    307896\n",
       "2                    156801"
      ]
     },
     "execution_count": 121,
     "metadata": {},
     "output_type": "execute_result"
    }
   ],
   "source": [
    "area.head()"
   ]
  },
  {
   "cell_type": "code",
   "execution_count": 124,
   "id": "ee350c76-2917-47f2-9601-0076b7cdb14a",
   "metadata": {},
   "outputs": [],
   "source": [
    "area.reset_index(inplace = True)"
   ]
  },
  {
   "cell_type": "code",
   "execution_count": 125,
   "id": "21aa2047-1431-438c-8724-34ef463d0e51",
   "metadata": {},
   "outputs": [
    {
     "data": {
      "text/html": [
       "<div>\n",
       "<style scoped>\n",
       "    .dataframe tbody tr th:only-of-type {\n",
       "        vertical-align: middle;\n",
       "    }\n",
       "\n",
       "    .dataframe tbody tr th {\n",
       "        vertical-align: top;\n",
       "    }\n",
       "\n",
       "    .dataframe thead th {\n",
       "        text-align: right;\n",
       "    }\n",
       "</style>\n",
       "<table border=\"1\" class=\"dataframe\">\n",
       "  <thead>\n",
       "    <tr style=\"text-align: right;\">\n",
       "      <th></th>\n",
       "      <th>Urban_or_Rural_Area</th>\n",
       "      <th>Date</th>\n",
       "    </tr>\n",
       "  </thead>\n",
       "  <tbody>\n",
       "    <tr>\n",
       "      <th>0</th>\n",
       "      <td>1</td>\n",
       "      <td>307896</td>\n",
       "    </tr>\n",
       "    <tr>\n",
       "      <th>1</th>\n",
       "      <td>2</td>\n",
       "      <td>156801</td>\n",
       "    </tr>\n",
       "  </tbody>\n",
       "</table>\n",
       "</div>"
      ],
      "text/plain": [
       "   Urban_or_Rural_Area    Date\n",
       "0                    1  307896\n",
       "1                    2  156801"
      ]
     },
     "execution_count": 125,
     "metadata": {},
     "output_type": "execute_result"
    }
   ],
   "source": [
    "area.head()"
   ]
  },
  {
   "cell_type": "code",
   "execution_count": 130,
   "id": "9d3f25ac-497a-4ab9-bd74-3b3573cff79c",
   "metadata": {},
   "outputs": [
    {
     "data": {
      "text/plain": [
       "<matplotlib.legend.Legend at 0x20d1070c0a0>"
      ]
     },
     "execution_count": 130,
     "metadata": {},
     "output_type": "execute_result"
    },
    {
     "data": {
      "image/png": "[encoded data removed]",
      "text/plain": [
       "<Figure size 432x288 with 1 Axes>"
      ]
     },
     "metadata": {},
     "output_type": "display_data"
    }
   ],
   "source": [
    "area.plot.pie(y=\"Urban_or_Rural_Area\").set_title(\"Area Type\");\n",
    "plt.legend(title=\"Urban Or Rural\",labels=[\"Rural\",\"Urban\"])"
   ]
  },
  {
   "cell_type": "code",
   "execution_count": 30,
   "id": "6936ce31-d2d9-4dc4-9de1-4e15267850cb",
   "metadata": {},
   "outputs": [
    {
     "data": {
      "text/plain": [
       "array(['Darkness: Street lights present and lit',\n",
       "       'Daylight: Street light present', 'Darkeness: No street lighting',\n",
       "       'Darkness: Street lights present but unlit',\n",
       "       'Darkness: Street lighting unknown'], dtype=object)"
      ]
     },
     "execution_count": 30,
     "metadata": {},
     "output_type": "execute_result"
    }
   ],
   "source": [
    "df['Light_Conditions'].unique()"
   ]
  },
  {
   "cell_type": "code",
   "execution_count": 91,
   "id": "94dff3cd-c80d-41fc-98d8-0e1058ad4cc8",
   "metadata": {},
   "outputs": [
    {
     "data": {
      "text/plain": [
       "array([3, 4, 5, 6, 1, 2], dtype=int64)"
      ]
     },
     "execution_count": 91,
     "metadata": {},
     "output_type": "execute_result"
    }
   ],
   "source": [
    "df['1st_Road_Class'].unique()"
   ]
  },
  {
   "cell_type": "code",
   "execution_count": 92,
   "id": "9edc2af5-7261-4a25-aa05-f07e57f35623",
   "metadata": {},
   "outputs": [
    {
     "data": {
      "text/plain": [
       "1st_Road_Class\n",
       "1     16556\n",
       "2      1347\n",
       "3    216232\n",
       "4     59071\n",
       "5     41796\n",
       "6    129695\n",
       "Name: Date, dtype: int64"
      ]
     },
     "execution_count": 92,
     "metadata": {},
     "output_type": "execute_result"
    }
   ],
   "source": [
    "df.groupby(['1st_Road_Class'])['Date'].count()"
   ]
  },
  {
   "cell_type": "code",
   "execution_count": 94,
   "id": "b8652644-335b-4550-887e-3a85557d6f74",
   "metadata": {},
   "outputs": [
    {
     "data": {
      "text/plain": [
       "array([ 5,  6,  3,  4, -1,  1,  2], dtype=int64)"
      ]
     },
     "execution_count": 94,
     "metadata": {},
     "output_type": "execute_result"
    }
   ],
   "source": [
    "df['2nd_Road_Class'].unique()"
   ]
  },
  {
   "cell_type": "code",
   "execution_count": 93,
   "id": "56de85ce-3ffd-4e6e-90c0-b287b7694dd3",
   "metadata": {},
   "outputs": [
    {
     "data": {
      "text/plain": [
       "2nd_Road_Class\n",
       "-1    181794\n",
       " 1      3132\n",
       " 2       346\n",
       " 3     47690\n",
       " 4     18911\n",
       " 5     22906\n",
       " 6    189918\n",
       "Name: Date, dtype: int64"
      ]
     },
     "execution_count": 93,
     "metadata": {},
     "output_type": "execute_result"
    }
   ],
   "source": [
    "df.groupby(['2nd_Road_Class'])['Date'].count()"
   ]
  },
  {
   "cell_type": "code",
   "execution_count": 34,
   "id": "5d5bf08e-79fd-4d7c-81cd-f02d0d037cc6",
   "metadata": {},
   "outputs": [
    {
     "data": {
      "text/plain": [
       "Light_Conditions\n",
       "Darkeness: No street lighting                 22999\n",
       "Darkness: Street lighting unknown              6853\n",
       "Darkness: Street lights present and lit       91158\n",
       "Darkness: Street lights present but unlit      2563\n",
       "Daylight: Street light present               341124\n",
       "Name: Date, dtype: int64"
      ]
     },
     "execution_count": 34,
     "metadata": {},
     "output_type": "execute_result"
    }
   ],
   "source": [
    "df.groupby(['Light_Conditions'])['Date'].count()"
   ]
  },
  {
   "cell_type": "code",
   "execution_count": 82,
   "id": "f5446d03-f9b5-4c6a-a315-949fd8030f11",
   "metadata": {},
   "outputs": [
    {
     "data": {
      "image/png": "[encoded data removed]",
      "text/plain": [
       "<Figure size 1080x576 with 1 Axes>"
      ]
     },
     "metadata": {
      "needs_background": "light"
     },
     "output_type": "display_data"
    }
   ],
   "source": [
    "plt.figure(figsize=(15,8));\n",
    "\n",
    "sns.countplot(x='Light_Conditions', data=df).set_title(\"Accident Numbers by Street Lightning Conditions\");\n",
    "\n",
    "#sns.set(rc={'figure.figsize':(18,20)})"
   ]
  },
  {
   "cell_type": "code",
   "execution_count": 36,
   "id": "89dfd0d7-7422-484c-b06d-e32ed0703234",
   "metadata": {},
   "outputs": [
    {
     "data": {
      "text/plain": [
       "Weather_Conditions\n",
       "Fine with high winds            5011\n",
       "Fine without high winds       373167\n",
       "Fog or mist                     2411\n",
       "Other                           8272\n",
       "Raining with high winds         7120\n",
       "Raining without high winds     57060\n",
       "Snowing with high winds          733\n",
       "Snowing without high winds      2708\n",
       "Unknown                         8215\n",
       "Name: Date, dtype: int64"
      ]
     },
     "execution_count": 36,
     "metadata": {},
     "output_type": "execute_result"
    }
   ],
   "source": [
    "df.groupby(['Weather_Conditions'])['Date'].count()"
   ]
  },
  {
   "cell_type": "code",
   "execution_count": 79,
   "id": "5fe8fe0f-ffc2-4ba4-811c-3eee6513ef68",
   "metadata": {},
   "outputs": [
    {
     "data": {
      "image/png": "[encoded data removed]",
      "text/plain": [
       "<Figure size 1080x576 with 1 Axes>"
      ]
     },
     "metadata": {
      "needs_background": "light"
     },
     "output_type": "display_data"
    }
   ],
   "source": [
    "ax = plt.figure(figsize=(15,8));\n",
    "sns.countplot(x='Weather_Conditions', data=df).set_title(\"Accident Numbers by Weather Conditions\");"
   ]
  },
  {
   "cell_type": "code",
   "execution_count": 37,
   "id": "fe6d9afb-d89a-4f8e-a5be-d362991b3a00",
   "metadata": {},
   "outputs": [
    {
     "data": {
      "text/plain": [
       "array(['Dry', 'Wet/Damp', 'Frost/Ice', 'Snow',\n",
       "       'Flood (Over 3cm of water)', nan], dtype=object)"
      ]
     },
     "execution_count": 37,
     "metadata": {},
     "output_type": "execute_result"
    }
   ],
   "source": [
    "df['Road_Surface_Conditions'].unique()"
   ]
  },
  {
   "cell_type": "code",
   "execution_count": 38,
   "id": "40270be1-b585-4141-a281-89e3c355d903",
   "metadata": {},
   "outputs": [
    {
     "data": {
      "text/plain": [
       "Road_Surface_Conditions\n",
       "Dry                          319370\n",
       "Flood (Over 3cm of water)       863\n",
       "Frost/Ice                      8140\n",
       "Snow                           2824\n",
       "Wet/Damp                     132745\n",
       "Name: Date, dtype: int64"
      ]
     },
     "execution_count": 38,
     "metadata": {},
     "output_type": "execute_result"
    }
   ],
   "source": [
    "df.groupby(['Road_Surface_Conditions'])['Date'].count()"
   ]
  },
  {
   "cell_type": "code",
   "execution_count": 78,
   "id": "598246b5-8191-422e-b046-07c8898e028c",
   "metadata": {},
   "outputs": [
    {
     "data": {
      "image/png": "[encoded data removed]",
      "text/plain": [
       "<Figure size 1080x576 with 1 Axes>"
      ]
     },
     "metadata": {
      "needs_background": "light"
     },
     "output_type": "display_data"
    }
   ],
   "source": [
    "ax = plt.figure(figsize=(15,8));\n",
    "sns.countplot(x='Road_Surface_Conditions', data=df).set_title(\"Accident Numbers by Road Surface Conditions\");"
   ]
  },
  {
   "cell_type": "code",
   "execution_count": 40,
   "id": "0107d529-c9f0-470d-b80b-5510c8a069ce",
   "metadata": {},
   "outputs": [
    {
     "data": {
      "text/plain": [
       "array([30, 50, 40, 20, 70, 60, 10], dtype=int64)"
      ]
     },
     "execution_count": 40,
     "metadata": {},
     "output_type": "execute_result"
    }
   ],
   "source": [
    "df['Speed_limit'].unique()"
   ]
  },
  {
   "cell_type": "code",
   "execution_count": 41,
   "id": "5c6d0b96-d01d-412f-8bd9-63a3fb35675f",
   "metadata": {},
   "outputs": [
    {
     "data": {
      "text/plain": [
       "Speed_limit\n",
       "10         1\n",
       "20      9055\n",
       "30    304842\n",
       "40     37538\n",
       "50     17312\n",
       "60     64465\n",
       "70     31484\n",
       "Name: Date, dtype: int64"
      ]
     },
     "execution_count": 41,
     "metadata": {},
     "output_type": "execute_result"
    }
   ],
   "source": [
    "df.groupby(['Speed_limit'])['Date'].count()"
   ]
  },
  {
   "cell_type": "code",
   "execution_count": 77,
   "id": "14142834-f6d7-44aa-be93-a428612b816b",
   "metadata": {},
   "outputs": [
    {
     "data": {
      "image/png": "[encoded data removed]",
      "text/plain": [
       "<Figure size 432x288 with 1 Axes>"
      ]
     },
     "metadata": {
      "needs_background": "light"
     },
     "output_type": "display_data"
    }
   ],
   "source": [
    "sns.countplot(x='Speed_limit', data=df).set_title(\"Accident Numbers by Road Speed Limit\");"
   ]
  },
  {
   "cell_type": "code",
   "execution_count": 43,
   "id": "32744408-177f-4de1-8d65-81de2306d967",
   "metadata": {},
   "outputs": [
    {
     "data": {
      "text/plain": [
       "array(['Single carriageway', 'One way street', 'Roundabout',\n",
       "       'Dual carriageway', 'Slip road', 'Unknown'], dtype=object)"
      ]
     },
     "execution_count": 43,
     "metadata": {},
     "output_type": "execute_result"
    }
   ],
   "source": [
    "df['Road_Type'].unique()"
   ]
  },
  {
   "cell_type": "code",
   "execution_count": 45,
   "id": "37fdf084-ab11-47bb-92bf-7ccfbdb4671e",
   "metadata": {},
   "outputs": [
    {
     "data": {
      "text/plain": [
       "Road_Type\n",
       "Dual carriageway       65998\n",
       "One way street          9074\n",
       "Roundabout             31852\n",
       "Single carriageway    351268\n",
       "Slip road               4827\n",
       "Unknown                 1678\n",
       "Name: Date, dtype: int64"
      ]
     },
     "execution_count": 45,
     "metadata": {},
     "output_type": "execute_result"
    }
   ],
   "source": [
    "df.groupby(['Road_Type'])['Date'].count()"
   ]
  },
  {
   "cell_type": "code",
   "execution_count": 76,
   "id": "61a9a1d3-eba9-4253-b20c-7819bb64fc24",
   "metadata": {},
   "outputs": [
    {
     "data": {
      "image/png": "[encoded data removed]",
      "text/plain": [
       "<Figure size 720x576 with 1 Axes>"
      ]
     },
     "metadata": {
      "needs_background": "light"
     },
     "output_type": "display_data"
    }
   ],
   "source": [
    "ax = plt.figure(figsize=(10,8));\n",
    "sns.countplot(x='Road_Type', data=df).set_title(\"Accident Numbers by Road Type\");"
   ]
  },
  {
   "cell_type": "code",
   "execution_count": 7,
   "id": "8bdd15ac-0fce-4e06-b1de-c18b93b885d2",
   "metadata": {},
   "outputs": [
    {
     "data": {
      "text/plain": [
       "0    19/01/2012\n",
       "1    04/01/2012\n",
       "2    10/01/2012\n",
       "3    18/01/2012\n",
       "4    17/01/2012\n",
       "Name: Date, dtype: object"
      ]
     },
     "execution_count": 7,
     "metadata": {},
     "output_type": "execute_result"
    }
   ],
   "source": [
    "df['Date'].head()"
   ]
  },
  {
   "cell_type": "code",
   "execution_count": 8,
   "id": "d0d82b08-e71a-4eea-9ae6-17e843c27678",
   "metadata": {},
   "outputs": [],
   "source": [
    "import datetime as dt\n",
    "df['Date'] = pd.to_datetime(df['Date'])"
   ]
  },
  {
   "cell_type": "code",
   "execution_count": 9,
   "id": "0672476b-eafd-4a3d-9ce7-465d1d323d47",
   "metadata": {},
   "outputs": [
    {
     "data": {
      "text/plain": [
       "0   2012-01-19\n",
       "1   2012-04-01\n",
       "2   2012-10-01\n",
       "3   2012-01-18\n",
       "4   2012-01-17\n",
       "Name: Date, dtype: datetime64[ns]"
      ]
     },
     "execution_count": 9,
     "metadata": {},
     "output_type": "execute_result"
    }
   ],
   "source": [
    "df['Date'].head()"
   ]
  },
  {
   "cell_type": "code",
   "execution_count": 10,
   "id": "df0f6e71-d550-4d55-92a0-42970614d243",
   "metadata": {},
   "outputs": [],
   "source": [
    "df['Year'] = df['Date'].map(lambda x: x.year)"
   ]
  },
  {
   "cell_type": "code",
   "execution_count": 11,
   "id": "9717381c-0b8a-4f27-809a-d28d8ff0c3b1",
   "metadata": {},
   "outputs": [
    {
     "data": {
      "text/html": [
       "<div>\n",
       "<style scoped>\n",
       "    .dataframe tbody tr th:only-of-type {\n",
       "        vertical-align: middle;\n",
       "    }\n",
       "\n",
       "    .dataframe tbody tr th {\n",
       "        vertical-align: top;\n",
       "    }\n",
       "\n",
       "    .dataframe thead th {\n",
       "        text-align: right;\n",
       "    }\n",
       "</style>\n",
       "<table border=\"1\" class=\"dataframe\">\n",
       "  <thead>\n",
       "    <tr style=\"text-align: right;\">\n",
       "      <th></th>\n",
       "      <th>Date</th>\n",
       "      <th>Day_of_Week</th>\n",
       "      <th>Time</th>\n",
       "      <th>Local_Authority_(District)</th>\n",
       "      <th>Local_Authority_(Highway)</th>\n",
       "      <th>1st_Road_Class</th>\n",
       "      <th>1st_Road_Number</th>\n",
       "      <th>Road_Type</th>\n",
       "      <th>Speed_limit</th>\n",
       "      <th>Junction_Detail</th>\n",
       "      <th>...</th>\n",
       "      <th>Pedestrian_Crossing-Human_Control</th>\n",
       "      <th>Pedestrian_Crossing-Physical_Facilities</th>\n",
       "      <th>Light_Conditions</th>\n",
       "      <th>Weather_Conditions</th>\n",
       "      <th>Road_Surface_Conditions</th>\n",
       "      <th>Special_Conditions_at_Site</th>\n",
       "      <th>Carriageway_Hazards</th>\n",
       "      <th>Urban_or_Rural_Area</th>\n",
       "      <th>Did_Police_Officer_Attend_Scene_of_Accident</th>\n",
       "      <th>Year</th>\n",
       "    </tr>\n",
       "  </thead>\n",
       "  <tbody>\n",
       "    <tr>\n",
       "      <th>0</th>\n",
       "      <td>2012-01-19</td>\n",
       "      <td>5</td>\n",
       "      <td>20:35</td>\n",
       "      <td>12</td>\n",
       "      <td>E09000020</td>\n",
       "      <td>3</td>\n",
       "      <td>308</td>\n",
       "      <td>Single carriageway</td>\n",
       "      <td>30</td>\n",
       "      <td>NaN</td>\n",
       "      <td>...</td>\n",
       "      <td>None within 50 metres</td>\n",
       "      <td>Pedestrian phase at traffic signal junction</td>\n",
       "      <td>Darkness: Street lights present and lit</td>\n",
       "      <td>Fine without high winds</td>\n",
       "      <td>Dry</td>\n",
       "      <td>None</td>\n",
       "      <td>None</td>\n",
       "      <td>1</td>\n",
       "      <td>Yes</td>\n",
       "      <td>2012</td>\n",
       "    </tr>\n",
       "    <tr>\n",
       "      <th>1</th>\n",
       "      <td>2012-04-01</td>\n",
       "      <td>4</td>\n",
       "      <td>17:00</td>\n",
       "      <td>1</td>\n",
       "      <td>E09000033</td>\n",
       "      <td>4</td>\n",
       "      <td>412</td>\n",
       "      <td>Single carriageway</td>\n",
       "      <td>30</td>\n",
       "      <td>NaN</td>\n",
       "      <td>...</td>\n",
       "      <td>None within 50 metres</td>\n",
       "      <td>No physical crossing within 50 meters</td>\n",
       "      <td>Darkness: Street lights present and lit</td>\n",
       "      <td>Fine without high winds</td>\n",
       "      <td>Dry</td>\n",
       "      <td>None</td>\n",
       "      <td>None</td>\n",
       "      <td>1</td>\n",
       "      <td>Yes</td>\n",
       "      <td>2012</td>\n",
       "    </tr>\n",
       "    <tr>\n",
       "      <th>2</th>\n",
       "      <td>2012-10-01</td>\n",
       "      <td>3</td>\n",
       "      <td>10:07</td>\n",
       "      <td>12</td>\n",
       "      <td>E09000020</td>\n",
       "      <td>3</td>\n",
       "      <td>3220</td>\n",
       "      <td>One way street</td>\n",
       "      <td>30</td>\n",
       "      <td>NaN</td>\n",
       "      <td>...</td>\n",
       "      <td>None within 50 metres</td>\n",
       "      <td>non-junction pedestrian crossing</td>\n",
       "      <td>Daylight: Street light present</td>\n",
       "      <td>Fine without high winds</td>\n",
       "      <td>Dry</td>\n",
       "      <td>None</td>\n",
       "      <td>None</td>\n",
       "      <td>1</td>\n",
       "      <td>Yes</td>\n",
       "      <td>2012</td>\n",
       "    </tr>\n",
       "    <tr>\n",
       "      <th>3</th>\n",
       "      <td>2012-01-18</td>\n",
       "      <td>4</td>\n",
       "      <td>12:20</td>\n",
       "      <td>12</td>\n",
       "      <td>E09000020</td>\n",
       "      <td>5</td>\n",
       "      <td>0</td>\n",
       "      <td>Single carriageway</td>\n",
       "      <td>30</td>\n",
       "      <td>NaN</td>\n",
       "      <td>...</td>\n",
       "      <td>None within 50 metres</td>\n",
       "      <td>No physical crossing within 50 meters</td>\n",
       "      <td>Daylight: Street light present</td>\n",
       "      <td>Fine without high winds</td>\n",
       "      <td>Dry</td>\n",
       "      <td>None</td>\n",
       "      <td>None</td>\n",
       "      <td>1</td>\n",
       "      <td>Yes</td>\n",
       "      <td>2012</td>\n",
       "    </tr>\n",
       "    <tr>\n",
       "      <th>4</th>\n",
       "      <td>2012-01-17</td>\n",
       "      <td>3</td>\n",
       "      <td>20:24</td>\n",
       "      <td>12</td>\n",
       "      <td>E09000020</td>\n",
       "      <td>4</td>\n",
       "      <td>325</td>\n",
       "      <td>Single carriageway</td>\n",
       "      <td>30</td>\n",
       "      <td>NaN</td>\n",
       "      <td>...</td>\n",
       "      <td>None within 50 metres</td>\n",
       "      <td>No physical crossing within 50 meters</td>\n",
       "      <td>Darkness: Street lights present and lit</td>\n",
       "      <td>Fine without high winds</td>\n",
       "      <td>Dry</td>\n",
       "      <td>None</td>\n",
       "      <td>None</td>\n",
       "      <td>1</td>\n",
       "      <td>Yes</td>\n",
       "      <td>2012</td>\n",
       "    </tr>\n",
       "  </tbody>\n",
       "</table>\n",
       "<p>5 rows × 23 columns</p>\n",
       "</div>"
      ],
      "text/plain": [
       "        Date  Day_of_Week   Time  Local_Authority_(District)  \\\n",
       "0 2012-01-19            5  20:35                          12   \n",
       "1 2012-04-01            4  17:00                           1   \n",
       "2 2012-10-01            3  10:07                          12   \n",
       "3 2012-01-18            4  12:20                          12   \n",
       "4 2012-01-17            3  20:24                          12   \n",
       "\n",
       "  Local_Authority_(Highway)  1st_Road_Class  1st_Road_Number  \\\n",
       "0                 E09000020               3              308   \n",
       "1                 E09000033               4              412   \n",
       "2                 E09000020               3             3220   \n",
       "3                 E09000020               5                0   \n",
       "4                 E09000020               4              325   \n",
       "\n",
       "            Road_Type  Speed_limit  Junction_Detail  ...  \\\n",
       "0  Single carriageway           30              NaN  ...   \n",
       "1  Single carriageway           30              NaN  ...   \n",
       "2      One way street           30              NaN  ...   \n",
       "3  Single carriageway           30              NaN  ...   \n",
       "4  Single carriageway           30              NaN  ...   \n",
       "\n",
       "  Pedestrian_Crossing-Human_Control  \\\n",
       "0             None within 50 metres   \n",
       "1             None within 50 metres   \n",
       "2             None within 50 metres   \n",
       "3             None within 50 metres   \n",
       "4             None within 50 metres   \n",
       "\n",
       "       Pedestrian_Crossing-Physical_Facilities  \\\n",
       "0  Pedestrian phase at traffic signal junction   \n",
       "1        No physical crossing within 50 meters   \n",
       "2             non-junction pedestrian crossing   \n",
       "3        No physical crossing within 50 meters   \n",
       "4        No physical crossing within 50 meters   \n",
       "\n",
       "                          Light_Conditions       Weather_Conditions  \\\n",
       "0  Darkness: Street lights present and lit  Fine without high winds   \n",
       "1  Darkness: Street lights present and lit  Fine without high winds   \n",
       "2           Daylight: Street light present  Fine without high winds   \n",
       "3           Daylight: Street light present  Fine without high winds   \n",
       "4  Darkness: Street lights present and lit  Fine without high winds   \n",
       "\n",
       "  Road_Surface_Conditions Special_Conditions_at_Site Carriageway_Hazards  \\\n",
       "0                     Dry                       None                None   \n",
       "1                     Dry                       None                None   \n",
       "2                     Dry                       None                None   \n",
       "3                     Dry                       None                None   \n",
       "4                     Dry                       None                None   \n",
       "\n",
       "  Urban_or_Rural_Area Did_Police_Officer_Attend_Scene_of_Accident  Year  \n",
       "0                   1                                         Yes  2012  \n",
       "1                   1                                         Yes  2012  \n",
       "2                   1                                         Yes  2012  \n",
       "3                   1                                         Yes  2012  \n",
       "4                   1                                         Yes  2012  \n",
       "\n",
       "[5 rows x 23 columns]"
      ]
     },
     "execution_count": 11,
     "metadata": {},
     "output_type": "execute_result"
    }
   ],
   "source": [
    "df.head()"
   ]
  },
  {
   "cell_type": "code",
   "execution_count": 12,
   "id": "d8269cb7-4267-4873-9fd8-bbed1c87f5d6",
   "metadata": {},
   "outputs": [
    {
     "data": {
      "text/plain": [
       "Year\n",
       "2012    179715\n",
       "2013    138660\n",
       "2014    146322\n",
       "Name: Date, dtype: int64"
      ]
     },
     "execution_count": 12,
     "metadata": {},
     "output_type": "execute_result"
    }
   ],
   "source": [
    "df.groupby(['Year'])['Date'].count()"
   ]
  },
  {
   "cell_type": "code",
   "execution_count": 13,
   "id": "3ec282fb-6a2c-46da-83a7-ef6214ee9451",
   "metadata": {},
   "outputs": [],
   "source": [
    "df[\"Month\"] = df['Date'].map(lambda x: x.month)"
   ]
  },
  {
   "cell_type": "code",
   "execution_count": 14,
   "id": "b0000962-7a6c-4dc6-a610-50c413da571c",
   "metadata": {},
   "outputs": [
    {
     "data": {
      "text/plain": [
       "Month\n",
       "1     38679\n",
       "2     34230\n",
       "3     38302\n",
       "4     37156\n",
       "5     40017\n",
       "6     38924\n",
       "7     40885\n",
       "8     38590\n",
       "9     39042\n",
       "10    41001\n",
       "11    41225\n",
       "12    36646\n",
       "Name: Date, dtype: int64"
      ]
     },
     "execution_count": 14,
     "metadata": {},
     "output_type": "execute_result"
    }
   ],
   "source": [
    "df.groupby(['Month'])['Date'].count()"
   ]
  },
  {
   "cell_type": "code",
   "execution_count": 71,
   "id": "e7777434-4f9c-4878-9343-11019b542e16",
   "metadata": {},
   "outputs": [],
   "source": [
    "months = df.groupby(['Month'])['Date'].count()"
   ]
  },
  {
   "cell_type": "code",
   "execution_count": 72,
   "id": "1ff1da64-2d1a-4ce6-ab53-850368c33064",
   "metadata": {},
   "outputs": [
    {
     "data": {
      "text/plain": [
       "Month\n",
       "1     38679\n",
       "2     34230\n",
       "3     38302\n",
       "4     37156\n",
       "5     40017\n",
       "6     38924\n",
       "7     40885\n",
       "8     38590\n",
       "9     39042\n",
       "10    41001\n",
       "11    41225\n",
       "12    36646\n",
       "Name: Date, dtype: int64"
      ]
     },
     "execution_count": 72,
     "metadata": {},
     "output_type": "execute_result"
    }
   ],
   "source": [
    "months"
   ]
  },
  {
   "cell_type": "code",
   "execution_count": 73,
   "id": "2766ffbe-b673-4a63-bf7a-934d5ed6c730",
   "metadata": {},
   "outputs": [],
   "source": [
    "months = pd.DataFrame(months)"
   ]
  },
  {
   "cell_type": "code",
   "execution_count": 74,
   "id": "ce05d0ff-001a-48ba-982f-1cb0c0abe0a3",
   "metadata": {},
   "outputs": [
    {
     "data": {
      "text/html": [
       "<div>\n",
       "<style scoped>\n",
       "    .dataframe tbody tr th:only-of-type {\n",
       "        vertical-align: middle;\n",
       "    }\n",
       "\n",
       "    .dataframe tbody tr th {\n",
       "        vertical-align: top;\n",
       "    }\n",
       "\n",
       "    .dataframe thead th {\n",
       "        text-align: right;\n",
       "    }\n",
       "</style>\n",
       "<table border=\"1\" class=\"dataframe\">\n",
       "  <thead>\n",
       "    <tr style=\"text-align: right;\">\n",
       "      <th></th>\n",
       "      <th>Date</th>\n",
       "    </tr>\n",
       "    <tr>\n",
       "      <th>Month</th>\n",
       "      <th></th>\n",
       "    </tr>\n",
       "  </thead>\n",
       "  <tbody>\n",
       "    <tr>\n",
       "      <th>1</th>\n",
       "      <td>38679</td>\n",
       "    </tr>\n",
       "    <tr>\n",
       "      <th>2</th>\n",
       "      <td>34230</td>\n",
       "    </tr>\n",
       "    <tr>\n",
       "      <th>3</th>\n",
       "      <td>38302</td>\n",
       "    </tr>\n",
       "    <tr>\n",
       "      <th>4</th>\n",
       "      <td>37156</td>\n",
       "    </tr>\n",
       "    <tr>\n",
       "      <th>5</th>\n",
       "      <td>40017</td>\n",
       "    </tr>\n",
       "    <tr>\n",
       "      <th>6</th>\n",
       "      <td>38924</td>\n",
       "    </tr>\n",
       "    <tr>\n",
       "      <th>7</th>\n",
       "      <td>40885</td>\n",
       "    </tr>\n",
       "    <tr>\n",
       "      <th>8</th>\n",
       "      <td>38590</td>\n",
       "    </tr>\n",
       "    <tr>\n",
       "      <th>9</th>\n",
       "      <td>39042</td>\n",
       "    </tr>\n",
       "    <tr>\n",
       "      <th>10</th>\n",
       "      <td>41001</td>\n",
       "    </tr>\n",
       "    <tr>\n",
       "      <th>11</th>\n",
       "      <td>41225</td>\n",
       "    </tr>\n",
       "    <tr>\n",
       "      <th>12</th>\n",
       "      <td>36646</td>\n",
       "    </tr>\n",
       "  </tbody>\n",
       "</table>\n",
       "</div>"
      ],
      "text/plain": [
       "        Date\n",
       "Month       \n",
       "1      38679\n",
       "2      34230\n",
       "3      38302\n",
       "4      37156\n",
       "5      40017\n",
       "6      38924\n",
       "7      40885\n",
       "8      38590\n",
       "9      39042\n",
       "10     41001\n",
       "11     41225\n",
       "12     36646"
      ]
     },
     "execution_count": 74,
     "metadata": {},
     "output_type": "execute_result"
    }
   ],
   "source": [
    "months"
   ]
  },
  {
   "cell_type": "code",
   "execution_count": 75,
   "id": "63683792-541b-4cda-8161-55e5b424f3b0",
   "metadata": {},
   "outputs": [
    {
     "data": {
      "image/png": "[encoded data removed]",
      "text/plain": [
       "<Figure size 432x288 with 1 Axes>"
      ]
     },
     "metadata": {
      "needs_background": "light"
     },
     "output_type": "display_data"
    }
   ],
   "source": [
    "sns.barplot(y=months['Date'], x = months.index, data=months).set_title(\"Monthly Accident Numbers\");"
   ]
  },
  {
   "cell_type": "code",
   "execution_count": 83,
   "id": "e82efa7b-7bf9-4e50-be4c-f5be7c8dda09",
   "metadata": {},
   "outputs": [],
   "source": [
    "year = df.groupby(['Year'])['Date'].count()"
   ]
  },
  {
   "cell_type": "code",
   "execution_count": 84,
   "id": "8fa7f0c5-f2b4-4e82-a691-36ede9fe07b0",
   "metadata": {},
   "outputs": [
    {
     "data": {
      "text/plain": [
       "Year\n",
       "2012    179715\n",
       "2013    138660\n",
       "2014    146322\n",
       "Name: Date, dtype: int64"
      ]
     },
     "execution_count": 84,
     "metadata": {},
     "output_type": "execute_result"
    }
   ],
   "source": [
    "year"
   ]
  },
  {
   "cell_type": "code",
   "execution_count": 85,
   "id": "00ac7efb-1e3a-4b53-b5dc-a364b182b9fe",
   "metadata": {},
   "outputs": [],
   "source": [
    "year = pd.DataFrame(year)"
   ]
  },
  {
   "cell_type": "code",
   "execution_count": 86,
   "id": "b55820e4-72db-4b3d-a68b-f0229e847504",
   "metadata": {},
   "outputs": [
    {
     "data": {
      "text/html": [
       "<div>\n",
       "<style scoped>\n",
       "    .dataframe tbody tr th:only-of-type {\n",
       "        vertical-align: middle;\n",
       "    }\n",
       "\n",
       "    .dataframe tbody tr th {\n",
       "        vertical-align: top;\n",
       "    }\n",
       "\n",
       "    .dataframe thead th {\n",
       "        text-align: right;\n",
       "    }\n",
       "</style>\n",
       "<table border=\"1\" class=\"dataframe\">\n",
       "  <thead>\n",
       "    <tr style=\"text-align: right;\">\n",
       "      <th></th>\n",
       "      <th>Date</th>\n",
       "    </tr>\n",
       "    <tr>\n",
       "      <th>Year</th>\n",
       "      <th></th>\n",
       "    </tr>\n",
       "  </thead>\n",
       "  <tbody>\n",
       "    <tr>\n",
       "      <th>2012</th>\n",
       "      <td>179715</td>\n",
       "    </tr>\n",
       "    <tr>\n",
       "      <th>2013</th>\n",
       "      <td>138660</td>\n",
       "    </tr>\n",
       "    <tr>\n",
       "      <th>2014</th>\n",
       "      <td>146322</td>\n",
       "    </tr>\n",
       "  </tbody>\n",
       "</table>\n",
       "</div>"
      ],
      "text/plain": [
       "        Date\n",
       "Year        \n",
       "2012  179715\n",
       "2013  138660\n",
       "2014  146322"
      ]
     },
     "execution_count": 86,
     "metadata": {},
     "output_type": "execute_result"
    }
   ],
   "source": [
    "year"
   ]
  },
  {
   "cell_type": "code",
   "execution_count": 87,
   "id": "48ef7c49-b9bd-4fdd-874c-cdabf169ac54",
   "metadata": {},
   "outputs": [
    {
     "data": {
      "image/png": "[encoded data removed]",
      "text/plain": [
       "<Figure size 432x288 with 1 Axes>"
      ]
     },
     "metadata": {
      "needs_background": "light"
     },
     "output_type": "display_data"
    }
   ],
   "source": [
    "sns.barplot(y=year['Date'], x = year.index, data=year).set_title(\"Accident Numbers by Year\");"
   ]
  },
  {
   "cell_type": "code",
   "execution_count": 88,
   "id": "30e6a93d-821f-4098-bb14-3e1003e9d3e4",
   "metadata": {},
   "outputs": [
    {
     "data": {
      "text/html": [
       "<div>\n",
       "<style scoped>\n",
       "    .dataframe tbody tr th:only-of-type {\n",
       "        vertical-align: middle;\n",
       "    }\n",
       "\n",
       "    .dataframe tbody tr th {\n",
       "        vertical-align: top;\n",
       "    }\n",
       "\n",
       "    .dataframe thead th {\n",
       "        text-align: right;\n",
       "    }\n",
       "</style>\n",
       "<table border=\"1\" class=\"dataframe\">\n",
       "  <thead>\n",
       "    <tr style=\"text-align: right;\">\n",
       "      <th></th>\n",
       "      <th>Day_of_Week</th>\n",
       "      <th>Local_Authority_(District)</th>\n",
       "      <th>1st_Road_Class</th>\n",
       "      <th>1st_Road_Number</th>\n",
       "      <th>Speed_limit</th>\n",
       "      <th>Junction_Detail</th>\n",
       "      <th>2nd_Road_Class</th>\n",
       "      <th>2nd_Road_Number</th>\n",
       "      <th>Urban_or_Rural_Area</th>\n",
       "      <th>Year</th>\n",
       "      <th>Month</th>\n",
       "    </tr>\n",
       "  </thead>\n",
       "  <tbody>\n",
       "    <tr>\n",
       "      <th>Day_of_Week</th>\n",
       "      <td>1.000000</td>\n",
       "      <td>-0.002014</td>\n",
       "      <td>0.004594</td>\n",
       "      <td>0.003172</td>\n",
       "      <td>-0.015876</td>\n",
       "      <td>NaN</td>\n",
       "      <td>0.011538</td>\n",
       "      <td>-0.000495</td>\n",
       "      <td>-0.018107</td>\n",
       "      <td>-0.002890</td>\n",
       "      <td>0.009134</td>\n",
       "    </tr>\n",
       "    <tr>\n",
       "      <th>Local_Authority_(District)</th>\n",
       "      <td>-0.002014</td>\n",
       "      <td>1.000000</td>\n",
       "      <td>0.056267</td>\n",
       "      <td>0.019247</td>\n",
       "      <td>0.212592</td>\n",
       "      <td>NaN</td>\n",
       "      <td>-0.124897</td>\n",
       "      <td>-0.018911</td>\n",
       "      <td>0.263910</td>\n",
       "      <td>0.071632</td>\n",
       "      <td>0.001385</td>\n",
       "    </tr>\n",
       "    <tr>\n",
       "      <th>1st_Road_Class</th>\n",
       "      <td>0.004594</td>\n",
       "      <td>0.056267</td>\n",
       "      <td>1.000000</td>\n",
       "      <td>-0.083800</td>\n",
       "      <td>-0.380226</td>\n",
       "      <td>NaN</td>\n",
       "      <td>0.098219</td>\n",
       "      <td>-0.030052</td>\n",
       "      <td>-0.213495</td>\n",
       "      <td>0.003845</td>\n",
       "      <td>-0.003817</td>\n",
       "    </tr>\n",
       "    <tr>\n",
       "      <th>1st_Road_Number</th>\n",
       "      <td>0.003172</td>\n",
       "      <td>0.019247</td>\n",
       "      <td>-0.083800</td>\n",
       "      <td>1.000000</td>\n",
       "      <td>-0.067390</td>\n",
       "      <td>NaN</td>\n",
       "      <td>0.031523</td>\n",
       "      <td>0.186657</td>\n",
       "      <td>-0.018386</td>\n",
       "      <td>-0.004414</td>\n",
       "      <td>-0.002374</td>\n",
       "    </tr>\n",
       "    <tr>\n",
       "      <th>Speed_limit</th>\n",
       "      <td>-0.015876</td>\n",
       "      <td>0.212592</td>\n",
       "      <td>-0.380226</td>\n",
       "      <td>-0.067390</td>\n",
       "      <td>1.000000</td>\n",
       "      <td>NaN</td>\n",
       "      <td>-0.336064</td>\n",
       "      <td>-0.047418</td>\n",
       "      <td>0.680879</td>\n",
       "      <td>0.008236</td>\n",
       "      <td>0.004126</td>\n",
       "    </tr>\n",
       "    <tr>\n",
       "      <th>Junction_Detail</th>\n",
       "      <td>NaN</td>\n",
       "      <td>NaN</td>\n",
       "      <td>NaN</td>\n",
       "      <td>NaN</td>\n",
       "      <td>NaN</td>\n",
       "      <td>NaN</td>\n",
       "      <td>NaN</td>\n",
       "      <td>NaN</td>\n",
       "      <td>NaN</td>\n",
       "      <td>NaN</td>\n",
       "      <td>NaN</td>\n",
       "    </tr>\n",
       "    <tr>\n",
       "      <th>2nd_Road_Class</th>\n",
       "      <td>0.011538</td>\n",
       "      <td>-0.124897</td>\n",
       "      <td>0.098219</td>\n",
       "      <td>0.031523</td>\n",
       "      <td>-0.336064</td>\n",
       "      <td>NaN</td>\n",
       "      <td>1.000000</td>\n",
       "      <td>0.148090</td>\n",
       "      <td>-0.291616</td>\n",
       "      <td>-0.002317</td>\n",
       "      <td>-0.003796</td>\n",
       "    </tr>\n",
       "    <tr>\n",
       "      <th>2nd_Road_Number</th>\n",
       "      <td>-0.000495</td>\n",
       "      <td>-0.018911</td>\n",
       "      <td>-0.030052</td>\n",
       "      <td>0.186657</td>\n",
       "      <td>-0.047418</td>\n",
       "      <td>NaN</td>\n",
       "      <td>0.148090</td>\n",
       "      <td>1.000000</td>\n",
       "      <td>-0.039443</td>\n",
       "      <td>-0.005371</td>\n",
       "      <td>-0.001579</td>\n",
       "    </tr>\n",
       "    <tr>\n",
       "      <th>Urban_or_Rural_Area</th>\n",
       "      <td>-0.018107</td>\n",
       "      <td>0.263910</td>\n",
       "      <td>-0.213495</td>\n",
       "      <td>-0.018386</td>\n",
       "      <td>0.680879</td>\n",
       "      <td>NaN</td>\n",
       "      <td>-0.291616</td>\n",
       "      <td>-0.039443</td>\n",
       "      <td>1.000000</td>\n",
       "      <td>0.017433</td>\n",
       "      <td>0.003570</td>\n",
       "    </tr>\n",
       "    <tr>\n",
       "      <th>Year</th>\n",
       "      <td>-0.002890</td>\n",
       "      <td>0.071632</td>\n",
       "      <td>0.003845</td>\n",
       "      <td>-0.004414</td>\n",
       "      <td>0.008236</td>\n",
       "      <td>NaN</td>\n",
       "      <td>-0.002317</td>\n",
       "      <td>-0.005371</td>\n",
       "      <td>0.017433</td>\n",
       "      <td>1.000000</td>\n",
       "      <td>0.006891</td>\n",
       "    </tr>\n",
       "    <tr>\n",
       "      <th>Month</th>\n",
       "      <td>0.009134</td>\n",
       "      <td>0.001385</td>\n",
       "      <td>-0.003817</td>\n",
       "      <td>-0.002374</td>\n",
       "      <td>0.004126</td>\n",
       "      <td>NaN</td>\n",
       "      <td>-0.003796</td>\n",
       "      <td>-0.001579</td>\n",
       "      <td>0.003570</td>\n",
       "      <td>0.006891</td>\n",
       "      <td>1.000000</td>\n",
       "    </tr>\n",
       "  </tbody>\n",
       "</table>\n",
       "</div>"
      ],
      "text/plain": [
       "                            Day_of_Week  Local_Authority_(District)  \\\n",
       "Day_of_Week                    1.000000                   -0.002014   \n",
       "Local_Authority_(District)    -0.002014                    1.000000   \n",
       "1st_Road_Class                 0.004594                    0.056267   \n",
       "1st_Road_Number                0.003172                    0.019247   \n",
       "Speed_limit                   -0.015876                    0.212592   \n",
       "Junction_Detail                     NaN                         NaN   \n",
       "2nd_Road_Class                 0.011538                   -0.124897   \n",
       "2nd_Road_Number               -0.000495                   -0.018911   \n",
       "Urban_or_Rural_Area           -0.018107                    0.263910   \n",
       "Year                          -0.002890                    0.071632   \n",
       "Month                          0.009134                    0.001385   \n",
       "\n",
       "                            1st_Road_Class  1st_Road_Number  Speed_limit  \\\n",
       "Day_of_Week                       0.004594         0.003172    -0.015876   \n",
       "Local_Authority_(District)        0.056267         0.019247     0.212592   \n",
       "1st_Road_Class                    1.000000        -0.083800    -0.380226   \n",
       "1st_Road_Number                  -0.083800         1.000000    -0.067390   \n",
       "Speed_limit                      -0.380226        -0.067390     1.000000   \n",
       "Junction_Detail                        NaN              NaN          NaN   \n",
       "2nd_Road_Class                    0.098219         0.031523    -0.336064   \n",
       "2nd_Road_Number                  -0.030052         0.186657    -0.047418   \n",
       "Urban_or_Rural_Area              -0.213495        -0.018386     0.680879   \n",
       "Year                              0.003845        -0.004414     0.008236   \n",
       "Month                            -0.003817        -0.002374     0.004126   \n",
       "\n",
       "                            Junction_Detail  2nd_Road_Class  2nd_Road_Number  \\\n",
       "Day_of_Week                             NaN        0.011538        -0.000495   \n",
       "Local_Authority_(District)              NaN       -0.124897        -0.018911   \n",
       "1st_Road_Class                          NaN        0.098219        -0.030052   \n",
       "1st_Road_Number                         NaN        0.031523         0.186657   \n",
       "Speed_limit                             NaN       -0.336064        -0.047418   \n",
       "Junction_Detail                         NaN             NaN              NaN   \n",
       "2nd_Road_Class                          NaN        1.000000         0.148090   \n",
       "2nd_Road_Number                         NaN        0.148090         1.000000   \n",
       "Urban_or_Rural_Area                     NaN       -0.291616        -0.039443   \n",
       "Year                                    NaN       -0.002317        -0.005371   \n",
       "Month                                   NaN       -0.003796        -0.001579   \n",
       "\n",
       "                            Urban_or_Rural_Area      Year     Month  \n",
       "Day_of_Week                           -0.018107 -0.002890  0.009134  \n",
       "Local_Authority_(District)             0.263910  0.071632  0.001385  \n",
       "1st_Road_Class                        -0.213495  0.003845 -0.003817  \n",
       "1st_Road_Number                       -0.018386 -0.004414 -0.002374  \n",
       "Speed_limit                            0.680879  0.008236  0.004126  \n",
       "Junction_Detail                             NaN       NaN       NaN  \n",
       "2nd_Road_Class                        -0.291616 -0.002317 -0.003796  \n",
       "2nd_Road_Number                       -0.039443 -0.005371 -0.001579  \n",
       "Urban_or_Rural_Area                    1.000000  0.017433  0.003570  \n",
       "Year                                   0.017433  1.000000  0.006891  \n",
       "Month                                  0.003570  0.006891  1.000000  "
      ]
     },
     "execution_count": 88,
     "metadata": {},
     "output_type": "execute_result"
    }
   ],
   "source": [
    "df.corr()"
   ]
  },
  {
   "cell_type": "code",
   "execution_count": 15,
   "id": "3347c1dd-12f0-4966-8726-b39fc2b09549",
   "metadata": {
    "tags": []
   },
   "outputs": [],
   "source": [
    "hours = pd.DataFrame(df[\"Time\"].astype(\"datetime64\"))"
   ]
  },
  {
   "cell_type": "code",
   "execution_count": 16,
   "id": "807999fb-3c4c-4567-a65b-00ff196ebad4",
   "metadata": {},
   "outputs": [
    {
     "data": {
      "text/html": [
       "<div>\n",
       "<style scoped>\n",
       "    .dataframe tbody tr th:only-of-type {\n",
       "        vertical-align: middle;\n",
       "    }\n",
       "\n",
       "    .dataframe tbody tr th {\n",
       "        vertical-align: top;\n",
       "    }\n",
       "\n",
       "    .dataframe thead th {\n",
       "        text-align: right;\n",
       "    }\n",
       "</style>\n",
       "<table border=\"1\" class=\"dataframe\">\n",
       "  <thead>\n",
       "    <tr style=\"text-align: right;\">\n",
       "      <th></th>\n",
       "      <th>Time</th>\n",
       "    </tr>\n",
       "  </thead>\n",
       "  <tbody>\n",
       "    <tr>\n",
       "      <th>0</th>\n",
       "      <td>2022-05-11 20:35:00</td>\n",
       "    </tr>\n",
       "    <tr>\n",
       "      <th>1</th>\n",
       "      <td>2022-05-11 17:00:00</td>\n",
       "    </tr>\n",
       "    <tr>\n",
       "      <th>2</th>\n",
       "      <td>2022-05-11 10:07:00</td>\n",
       "    </tr>\n",
       "    <tr>\n",
       "      <th>3</th>\n",
       "      <td>2022-05-11 12:20:00</td>\n",
       "    </tr>\n",
       "    <tr>\n",
       "      <th>4</th>\n",
       "      <td>2022-05-11 20:24:00</td>\n",
       "    </tr>\n",
       "  </tbody>\n",
       "</table>\n",
       "</div>"
      ],
      "text/plain": [
       "                 Time\n",
       "0 2022-05-11 20:35:00\n",
       "1 2022-05-11 17:00:00\n",
       "2 2022-05-11 10:07:00\n",
       "3 2022-05-11 12:20:00\n",
       "4 2022-05-11 20:24:00"
      ]
     },
     "execution_count": 16,
     "metadata": {},
     "output_type": "execute_result"
    }
   ],
   "source": [
    "hours.head()"
   ]
  },
  {
   "cell_type": "code",
   "execution_count": 17,
   "id": "ebb6342b-d666-4f26-b69c-028b26d6ba31",
   "metadata": {},
   "outputs": [],
   "source": [
    "hours = hours['Time'].dt.hour"
   ]
  },
  {
   "cell_type": "code",
   "execution_count": 18,
   "id": "8554af32-0f90-4b9f-a9c3-1c97cb73231e",
   "metadata": {},
   "outputs": [
    {
     "data": {
      "text/plain": [
       "0    20.0\n",
       "1    17.0\n",
       "2    10.0\n",
       "3    12.0\n",
       "4    20.0\n",
       "Name: Time, dtype: float64"
      ]
     },
     "execution_count": 18,
     "metadata": {},
     "output_type": "execute_result"
    }
   ],
   "source": [
    "hours.head()"
   ]
  },
  {
   "cell_type": "code",
   "execution_count": 19,
   "id": "43e8f318-5836-47af-9460-6e34b79e1566",
   "metadata": {},
   "outputs": [],
   "source": [
    "hours = pd.DataFrame(hours)"
   ]
  },
  {
   "cell_type": "code",
   "execution_count": 20,
   "id": "8911f2d6-624f-47c0-996e-06f4137725ac",
   "metadata": {},
   "outputs": [
    {
     "data": {
      "text/html": [
       "<div>\n",
       "<style scoped>\n",
       "    .dataframe tbody tr th:only-of-type {\n",
       "        vertical-align: middle;\n",
       "    }\n",
       "\n",
       "    .dataframe tbody tr th {\n",
       "        vertical-align: top;\n",
       "    }\n",
       "\n",
       "    .dataframe thead th {\n",
       "        text-align: right;\n",
       "    }\n",
       "</style>\n",
       "<table border=\"1\" class=\"dataframe\">\n",
       "  <thead>\n",
       "    <tr style=\"text-align: right;\">\n",
       "      <th></th>\n",
       "      <th>Time</th>\n",
       "    </tr>\n",
       "  </thead>\n",
       "  <tbody>\n",
       "    <tr>\n",
       "      <th>0</th>\n",
       "      <td>20.0</td>\n",
       "    </tr>\n",
       "    <tr>\n",
       "      <th>1</th>\n",
       "      <td>17.0</td>\n",
       "    </tr>\n",
       "    <tr>\n",
       "      <th>2</th>\n",
       "      <td>10.0</td>\n",
       "    </tr>\n",
       "    <tr>\n",
       "      <th>3</th>\n",
       "      <td>12.0</td>\n",
       "    </tr>\n",
       "    <tr>\n",
       "      <th>4</th>\n",
       "      <td>20.0</td>\n",
       "    </tr>\n",
       "  </tbody>\n",
       "</table>\n",
       "</div>"
      ],
      "text/plain": [
       "   Time\n",
       "0  20.0\n",
       "1  17.0\n",
       "2  10.0\n",
       "3  12.0\n",
       "4  20.0"
      ]
     },
     "execution_count": 20,
     "metadata": {},
     "output_type": "execute_result"
    }
   ],
   "source": [
    "hours.head()"
   ]
  },
  {
   "cell_type": "code",
   "execution_count": 21,
   "id": "22fcc1ad-f7fe-4ef5-8e4f-905e90507be7",
   "metadata": {},
   "outputs": [
    {
     "data": {
      "image/png": "[encoded data removed]",
      "text/plain": [
       "<Figure size 1080x576 with 1 Axes>"
      ]
     },
     "metadata": {
      "needs_background": "light"
     },
     "output_type": "display_data"
    }
   ],
   "source": [
    "ax = plt.figure(figsize=(15,8));\n",
    "sns.countplot(data = hours, x = 'Time').set_title(\"Accident Numbers by Hour\");"
   ]
  },
  {
   "cell_type": "code",
   "execution_count": 22,
   "id": "86dd1c75-4afd-4bb7-9482-1a5974e2391a",
   "metadata": {},
   "outputs": [],
   "source": [
    "cols = np.arange(0, 31, 1)"
   ]
  },
  {
   "cell_type": "code",
   "execution_count": 23,
   "id": "50c574c9-cc45-4ba5-9ca4-ad90a1ea99b7",
   "metadata": {},
   "outputs": [],
   "source": [
    "df2 = pd.read_csv('accidents.csv', usecols = cols)"
   ]
  },
  {
   "cell_type": "code",
   "execution_count": 133,
   "id": "9a804992-affa-4dfb-becf-6b803b25552d",
   "metadata": {},
   "outputs": [
    {
     "data": {
      "text/plain": [
       "Accident_Severity\n",
       "1      5303\n",
       "2     66784\n",
       "3    392610\n",
       "Name: Date, dtype: int64"
      ]
     },
     "execution_count": 133,
     "metadata": {},
     "output_type": "execute_result"
    }
   ],
   "source": [
    "df2.groupby(['Accident_Severity'])['Date'].count()"
   ]
  },
  {
   "cell_type": "code",
   "execution_count": 135,
   "id": "c26957ae-59a9-4825-9679-e5954e705a2a",
   "metadata": {},
   "outputs": [
    {
     "data": {
      "text/html": [
       "<div>\n",
       "<style scoped>\n",
       "    .dataframe tbody tr th:only-of-type {\n",
       "        vertical-align: middle;\n",
       "    }\n",
       "\n",
       "    .dataframe tbody tr th {\n",
       "        vertical-align: top;\n",
       "    }\n",
       "\n",
       "    .dataframe thead th {\n",
       "        text-align: right;\n",
       "    }\n",
       "</style>\n",
       "<table border=\"1\" class=\"dataframe\">\n",
       "  <thead>\n",
       "    <tr style=\"text-align: right;\">\n",
       "      <th></th>\n",
       "      <th>Location_Easting_OSGR</th>\n",
       "      <th>Location_Northing_OSGR</th>\n",
       "      <th>Longitude</th>\n",
       "      <th>Latitude</th>\n",
       "      <th>Police_Force</th>\n",
       "      <th>Accident_Severity</th>\n",
       "      <th>Number_of_Vehicles</th>\n",
       "      <th>Number_of_Casualties</th>\n",
       "      <th>Day_of_Week</th>\n",
       "      <th>Local_Authority_(District)</th>\n",
       "      <th>1st_Road_Class</th>\n",
       "      <th>1st_Road_Number</th>\n",
       "      <th>Speed_limit</th>\n",
       "      <th>Junction_Detail</th>\n",
       "      <th>2nd_Road_Class</th>\n",
       "      <th>2nd_Road_Number</th>\n",
       "      <th>Urban_or_Rural_Area</th>\n",
       "    </tr>\n",
       "  </thead>\n",
       "  <tbody>\n",
       "    <tr>\n",
       "      <th>Location_Easting_OSGR</th>\n",
       "      <td>1.000000</td>\n",
       "      <td>-0.443488</td>\n",
       "      <td>0.999394</td>\n",
       "      <td>-0.445512</td>\n",
       "      <td>-0.341086</td>\n",
       "      <td>0.033165</td>\n",
       "      <td>0.014412</td>\n",
       "      <td>-0.042245</td>\n",
       "      <td>-0.002260</td>\n",
       "      <td>-0.365255</td>\n",
       "      <td>-0.059309</td>\n",
       "      <td>-0.099017</td>\n",
       "      <td>-0.069761</td>\n",
       "      <td>NaN</td>\n",
       "      <td>0.057491</td>\n",
       "      <td>-0.024555</td>\n",
       "      <td>-0.108093</td>\n",
       "    </tr>\n",
       "    <tr>\n",
       "      <th>Location_Northing_OSGR</th>\n",
       "      <td>-0.443488</td>\n",
       "      <td>1.000000</td>\n",
       "      <td>-0.452043</td>\n",
       "      <td>0.999974</td>\n",
       "      <td>0.153230</td>\n",
       "      <td>-0.031794</td>\n",
       "      <td>-0.032548</td>\n",
       "      <td>0.034086</td>\n",
       "      <td>0.006142</td>\n",
       "      <td>0.114367</td>\n",
       "      <td>0.053008</td>\n",
       "      <td>0.055043</td>\n",
       "      <td>0.064186</td>\n",
       "      <td>NaN</td>\n",
       "      <td>-0.047574</td>\n",
       "      <td>0.050909</td>\n",
       "      <td>0.063538</td>\n",
       "    </tr>\n",
       "    <tr>\n",
       "      <th>Longitude</th>\n",
       "      <td>0.999394</td>\n",
       "      <td>-0.452043</td>\n",
       "      <td>1.000000</td>\n",
       "      <td>-0.453969</td>\n",
       "      <td>-0.353312</td>\n",
       "      <td>0.033144</td>\n",
       "      <td>0.015349</td>\n",
       "      <td>-0.040972</td>\n",
       "      <td>-0.002335</td>\n",
       "      <td>-0.374428</td>\n",
       "      <td>-0.058011</td>\n",
       "      <td>-0.096585</td>\n",
       "      <td>-0.069084</td>\n",
       "      <td>NaN</td>\n",
       "      <td>0.057676</td>\n",
       "      <td>-0.022418</td>\n",
       "      <td>-0.106236</td>\n",
       "    </tr>\n",
       "    <tr>\n",
       "      <th>Latitude</th>\n",
       "      <td>-0.445512</td>\n",
       "      <td>0.999974</td>\n",
       "      <td>-0.453969</td>\n",
       "      <td>1.000000</td>\n",
       "      <td>0.151249</td>\n",
       "      <td>-0.031863</td>\n",
       "      <td>-0.032358</td>\n",
       "      <td>0.034239</td>\n",
       "      <td>0.006144</td>\n",
       "      <td>0.112716</td>\n",
       "      <td>0.053068</td>\n",
       "      <td>0.055946</td>\n",
       "      <td>0.063912</td>\n",
       "      <td>NaN</td>\n",
       "      <td>-0.047352</td>\n",
       "      <td>0.051648</td>\n",
       "      <td>0.063078</td>\n",
       "    </tr>\n",
       "    <tr>\n",
       "      <th>Police_Force</th>\n",
       "      <td>-0.341086</td>\n",
       "      <td>0.153230</td>\n",
       "      <td>-0.353312</td>\n",
       "      <td>0.151249</td>\n",
       "      <td>1.000000</td>\n",
       "      <td>-0.039979</td>\n",
       "      <td>-0.005590</td>\n",
       "      <td>0.012450</td>\n",
       "      <td>-0.001216</td>\n",
       "      <td>0.982313</td>\n",
       "      <td>0.046606</td>\n",
       "      <td>0.007602</td>\n",
       "      <td>0.204729</td>\n",
       "      <td>NaN</td>\n",
       "      <td>-0.123164</td>\n",
       "      <td>-0.022331</td>\n",
       "      <td>0.248518</td>\n",
       "    </tr>\n",
       "    <tr>\n",
       "      <th>Accident_Severity</th>\n",
       "      <td>0.033165</td>\n",
       "      <td>-0.031794</td>\n",
       "      <td>0.033144</td>\n",
       "      <td>-0.031863</td>\n",
       "      <td>-0.039979</td>\n",
       "      <td>1.000000</td>\n",
       "      <td>0.078750</td>\n",
       "      <td>-0.060358</td>\n",
       "      <td>0.003478</td>\n",
       "      <td>-0.043415</td>\n",
       "      <td>-0.000410</td>\n",
       "      <td>-0.007502</td>\n",
       "      <td>-0.073219</td>\n",
       "      <td>NaN</td>\n",
       "      <td>0.059245</td>\n",
       "      <td>0.022077</td>\n",
       "      <td>-0.079522</td>\n",
       "    </tr>\n",
       "    <tr>\n",
       "      <th>Number_of_Vehicles</th>\n",
       "      <td>0.014412</td>\n",
       "      <td>-0.032548</td>\n",
       "      <td>0.015349</td>\n",
       "      <td>-0.032358</td>\n",
       "      <td>-0.005590</td>\n",
       "      <td>0.078750</td>\n",
       "      <td>1.000000</td>\n",
       "      <td>0.252533</td>\n",
       "      <td>0.003376</td>\n",
       "      <td>-0.001769</td>\n",
       "      <td>-0.147088</td>\n",
       "      <td>-0.008277</td>\n",
       "      <td>0.089665</td>\n",
       "      <td>NaN</td>\n",
       "      <td>0.064620</td>\n",
       "      <td>0.022293</td>\n",
       "      <td>0.044852</td>\n",
       "    </tr>\n",
       "    <tr>\n",
       "      <th>Number_of_Casualties</th>\n",
       "      <td>-0.042245</td>\n",
       "      <td>0.034086</td>\n",
       "      <td>-0.040972</td>\n",
       "      <td>0.034239</td>\n",
       "      <td>0.012450</td>\n",
       "      <td>-0.060358</td>\n",
       "      <td>0.252533</td>\n",
       "      <td>1.000000</td>\n",
       "      <td>0.000407</td>\n",
       "      <td>0.019785</td>\n",
       "      <td>-0.082932</td>\n",
       "      <td>0.006743</td>\n",
       "      <td>0.141020</td>\n",
       "      <td>NaN</td>\n",
       "      <td>-0.030371</td>\n",
       "      <td>0.003012</td>\n",
       "      <td>0.114752</td>\n",
       "    </tr>\n",
       "    <tr>\n",
       "      <th>Day_of_Week</th>\n",
       "      <td>-0.002260</td>\n",
       "      <td>0.006142</td>\n",
       "      <td>-0.002335</td>\n",
       "      <td>0.006144</td>\n",
       "      <td>-0.001216</td>\n",
       "      <td>0.003478</td>\n",
       "      <td>0.003376</td>\n",
       "      <td>0.000407</td>\n",
       "      <td>1.000000</td>\n",
       "      <td>-0.002014</td>\n",
       "      <td>0.004594</td>\n",
       "      <td>0.003172</td>\n",
       "      <td>-0.015876</td>\n",
       "      <td>NaN</td>\n",
       "      <td>0.011538</td>\n",
       "      <td>-0.000495</td>\n",
       "      <td>-0.018107</td>\n",
       "    </tr>\n",
       "    <tr>\n",
       "      <th>Local_Authority_(District)</th>\n",
       "      <td>-0.365255</td>\n",
       "      <td>0.114367</td>\n",
       "      <td>-0.374428</td>\n",
       "      <td>0.112716</td>\n",
       "      <td>0.982313</td>\n",
       "      <td>-0.043415</td>\n",
       "      <td>-0.001769</td>\n",
       "      <td>0.019785</td>\n",
       "      <td>-0.002014</td>\n",
       "      <td>1.000000</td>\n",
       "      <td>0.056267</td>\n",
       "      <td>0.019247</td>\n",
       "      <td>0.212592</td>\n",
       "      <td>NaN</td>\n",
       "      <td>-0.124897</td>\n",
       "      <td>-0.018911</td>\n",
       "      <td>0.263910</td>\n",
       "    </tr>\n",
       "    <tr>\n",
       "      <th>1st_Road_Class</th>\n",
       "      <td>-0.059309</td>\n",
       "      <td>0.053008</td>\n",
       "      <td>-0.058011</td>\n",
       "      <td>0.053068</td>\n",
       "      <td>0.046606</td>\n",
       "      <td>-0.000410</td>\n",
       "      <td>-0.147088</td>\n",
       "      <td>-0.082932</td>\n",
       "      <td>0.004594</td>\n",
       "      <td>0.056267</td>\n",
       "      <td>1.000000</td>\n",
       "      <td>-0.083800</td>\n",
       "      <td>-0.380226</td>\n",
       "      <td>NaN</td>\n",
       "      <td>0.098219</td>\n",
       "      <td>-0.030052</td>\n",
       "      <td>-0.213495</td>\n",
       "    </tr>\n",
       "    <tr>\n",
       "      <th>1st_Road_Number</th>\n",
       "      <td>-0.099017</td>\n",
       "      <td>0.055043</td>\n",
       "      <td>-0.096585</td>\n",
       "      <td>0.055946</td>\n",
       "      <td>0.007602</td>\n",
       "      <td>-0.007502</td>\n",
       "      <td>-0.008277</td>\n",
       "      <td>0.006743</td>\n",
       "      <td>0.003172</td>\n",
       "      <td>0.019247</td>\n",
       "      <td>-0.083800</td>\n",
       "      <td>1.000000</td>\n",
       "      <td>-0.067390</td>\n",
       "      <td>NaN</td>\n",
       "      <td>0.031523</td>\n",
       "      <td>0.186657</td>\n",
       "      <td>-0.018386</td>\n",
       "    </tr>\n",
       "    <tr>\n",
       "      <th>Speed_limit</th>\n",
       "      <td>-0.069761</td>\n",
       "      <td>0.064186</td>\n",
       "      <td>-0.069084</td>\n",
       "      <td>0.063912</td>\n",
       "      <td>0.204729</td>\n",
       "      <td>-0.073219</td>\n",
       "      <td>0.089665</td>\n",
       "      <td>0.141020</td>\n",
       "      <td>-0.015876</td>\n",
       "      <td>0.212592</td>\n",
       "      <td>-0.380226</td>\n",
       "      <td>-0.067390</td>\n",
       "      <td>1.000000</td>\n",
       "      <td>NaN</td>\n",
       "      <td>-0.336064</td>\n",
       "      <td>-0.047418</td>\n",
       "      <td>0.680879</td>\n",
       "    </tr>\n",
       "    <tr>\n",
       "      <th>Junction_Detail</th>\n",
       "      <td>NaN</td>\n",
       "      <td>NaN</td>\n",
       "      <td>NaN</td>\n",
       "      <td>NaN</td>\n",
       "      <td>NaN</td>\n",
       "      <td>NaN</td>\n",
       "      <td>NaN</td>\n",
       "      <td>NaN</td>\n",
       "      <td>NaN</td>\n",
       "      <td>NaN</td>\n",
       "      <td>NaN</td>\n",
       "      <td>NaN</td>\n",
       "      <td>NaN</td>\n",
       "      <td>NaN</td>\n",
       "      <td>NaN</td>\n",
       "      <td>NaN</td>\n",
       "      <td>NaN</td>\n",
       "    </tr>\n",
       "    <tr>\n",
       "      <th>2nd_Road_Class</th>\n",
       "      <td>0.057491</td>\n",
       "      <td>-0.047574</td>\n",
       "      <td>0.057676</td>\n",
       "      <td>-0.047352</td>\n",
       "      <td>-0.123164</td>\n",
       "      <td>0.059245</td>\n",
       "      <td>0.064620</td>\n",
       "      <td>-0.030371</td>\n",
       "      <td>0.011538</td>\n",
       "      <td>-0.124897</td>\n",
       "      <td>0.098219</td>\n",
       "      <td>0.031523</td>\n",
       "      <td>-0.336064</td>\n",
       "      <td>NaN</td>\n",
       "      <td>1.000000</td>\n",
       "      <td>0.148090</td>\n",
       "      <td>-0.291616</td>\n",
       "    </tr>\n",
       "    <tr>\n",
       "      <th>2nd_Road_Number</th>\n",
       "      <td>-0.024555</td>\n",
       "      <td>0.050909</td>\n",
       "      <td>-0.022418</td>\n",
       "      <td>0.051648</td>\n",
       "      <td>-0.022331</td>\n",
       "      <td>0.022077</td>\n",
       "      <td>0.022293</td>\n",
       "      <td>0.003012</td>\n",
       "      <td>-0.000495</td>\n",
       "      <td>-0.018911</td>\n",
       "      <td>-0.030052</td>\n",
       "      <td>0.186657</td>\n",
       "      <td>-0.047418</td>\n",
       "      <td>NaN</td>\n",
       "      <td>0.148090</td>\n",
       "      <td>1.000000</td>\n",
       "      <td>-0.039443</td>\n",
       "    </tr>\n",
       "    <tr>\n",
       "      <th>Urban_or_Rural_Area</th>\n",
       "      <td>-0.108093</td>\n",
       "      <td>0.063538</td>\n",
       "      <td>-0.106236</td>\n",
       "      <td>0.063078</td>\n",
       "      <td>0.248518</td>\n",
       "      <td>-0.079522</td>\n",
       "      <td>0.044852</td>\n",
       "      <td>0.114752</td>\n",
       "      <td>-0.018107</td>\n",
       "      <td>0.263910</td>\n",
       "      <td>-0.213495</td>\n",
       "      <td>-0.018386</td>\n",
       "      <td>0.680879</td>\n",
       "      <td>NaN</td>\n",
       "      <td>-0.291616</td>\n",
       "      <td>-0.039443</td>\n",
       "      <td>1.000000</td>\n",
       "    </tr>\n",
       "  </tbody>\n",
       "</table>\n",
       "</div>"
      ],
      "text/plain": [
       "                            Location_Easting_OSGR  Location_Northing_OSGR  \\\n",
       "Location_Easting_OSGR                    1.000000               -0.443488   \n",
       "Location_Northing_OSGR                  -0.443488                1.000000   \n",
       "Longitude                                0.999394               -0.452043   \n",
       "Latitude                                -0.445512                0.999974   \n",
       "Police_Force                            -0.341086                0.153230   \n",
       "Accident_Severity                        0.033165               -0.031794   \n",
       "Number_of_Vehicles                       0.014412               -0.032548   \n",
       "Number_of_Casualties                    -0.042245                0.034086   \n",
       "Day_of_Week                             -0.002260                0.006142   \n",
       "Local_Authority_(District)              -0.365255                0.114367   \n",
       "1st_Road_Class                          -0.059309                0.053008   \n",
       "1st_Road_Number                         -0.099017                0.055043   \n",
       "Speed_limit                             -0.069761                0.064186   \n",
       "Junction_Detail                               NaN                     NaN   \n",
       "2nd_Road_Class                           0.057491               -0.047574   \n",
       "2nd_Road_Number                         -0.024555                0.050909   \n",
       "Urban_or_Rural_Area                     -0.108093                0.063538   \n",
       "\n",
       "                            Longitude  Latitude  Police_Force  \\\n",
       "Location_Easting_OSGR        0.999394 -0.445512     -0.341086   \n",
       "Location_Northing_OSGR      -0.452043  0.999974      0.153230   \n",
       "Longitude                    1.000000 -0.453969     -0.353312   \n",
       "Latitude                    -0.453969  1.000000      0.151249   \n",
       "Police_Force                -0.353312  0.151249      1.000000   \n",
       "Accident_Severity            0.033144 -0.031863     -0.039979   \n",
       "Number_of_Vehicles           0.015349 -0.032358     -0.005590   \n",
       "Number_of_Casualties        -0.040972  0.034239      0.012450   \n",
       "Day_of_Week                 -0.002335  0.006144     -0.001216   \n",
       "Local_Authority_(District)  -0.374428  0.112716      0.982313   \n",
       "1st_Road_Class              -0.058011  0.053068      0.046606   \n",
       "1st_Road_Number             -0.096585  0.055946      0.007602   \n",
       "Speed_limit                 -0.069084  0.063912      0.204729   \n",
       "Junction_Detail                   NaN       NaN           NaN   \n",
       "2nd_Road_Class               0.057676 -0.047352     -0.123164   \n",
       "2nd_Road_Number             -0.022418  0.051648     -0.022331   \n",
       "Urban_or_Rural_Area         -0.106236  0.063078      0.248518   \n",
       "\n",
       "                            Accident_Severity  Number_of_Vehicles  \\\n",
       "Location_Easting_OSGR                0.033165            0.014412   \n",
       "Location_Northing_OSGR              -0.031794           -0.032548   \n",
       "Longitude                            0.033144            0.015349   \n",
       "Latitude                            -0.031863           -0.032358   \n",
       "Police_Force                        -0.039979           -0.005590   \n",
       "Accident_Severity                    1.000000            0.078750   \n",
       "Number_of_Vehicles                   0.078750            1.000000   \n",
       "Number_of_Casualties                -0.060358            0.252533   \n",
       "Day_of_Week                          0.003478            0.003376   \n",
       "Local_Authority_(District)          -0.043415           -0.001769   \n",
       "1st_Road_Class                      -0.000410           -0.147088   \n",
       "1st_Road_Number                     -0.007502           -0.008277   \n",
       "Speed_limit                         -0.073219            0.089665   \n",
       "Junction_Detail                           NaN                 NaN   \n",
       "2nd_Road_Class                       0.059245            0.064620   \n",
       "2nd_Road_Number                      0.022077            0.022293   \n",
       "Urban_or_Rural_Area                 -0.079522            0.044852   \n",
       "\n",
       "                            Number_of_Casualties  Day_of_Week  \\\n",
       "Location_Easting_OSGR                  -0.042245    -0.002260   \n",
       "Location_Northing_OSGR                  0.034086     0.006142   \n",
       "Longitude                              -0.040972    -0.002335   \n",
       "Latitude                                0.034239     0.006144   \n",
       "Police_Force                            0.012450    -0.001216   \n",
       "Accident_Severity                      -0.060358     0.003478   \n",
       "Number_of_Vehicles                      0.252533     0.003376   \n",
       "Number_of_Casualties                    1.000000     0.000407   \n",
       "Day_of_Week                             0.000407     1.000000   \n",
       "Local_Authority_(District)              0.019785    -0.002014   \n",
       "1st_Road_Class                         -0.082932     0.004594   \n",
       "1st_Road_Number                         0.006743     0.003172   \n",
       "Speed_limit                             0.141020    -0.015876   \n",
       "Junction_Detail                              NaN          NaN   \n",
       "2nd_Road_Class                         -0.030371     0.011538   \n",
       "2nd_Road_Number                         0.003012    -0.000495   \n",
       "Urban_or_Rural_Area                     0.114752    -0.018107   \n",
       "\n",
       "                            Local_Authority_(District)  1st_Road_Class  \\\n",
       "Location_Easting_OSGR                        -0.365255       -0.059309   \n",
       "Location_Northing_OSGR                        0.114367        0.053008   \n",
       "Longitude                                    -0.374428       -0.058011   \n",
       "Latitude                                      0.112716        0.053068   \n",
       "Police_Force                                  0.982313        0.046606   \n",
       "Accident_Severity                            -0.043415       -0.000410   \n",
       "Number_of_Vehicles                           -0.001769       -0.147088   \n",
       "Number_of_Casualties                          0.019785       -0.082932   \n",
       "Day_of_Week                                  -0.002014        0.004594   \n",
       "Local_Authority_(District)                    1.000000        0.056267   \n",
       "1st_Road_Class                                0.056267        1.000000   \n",
       "1st_Road_Number                               0.019247       -0.083800   \n",
       "Speed_limit                                   0.212592       -0.380226   \n",
       "Junction_Detail                                    NaN             NaN   \n",
       "2nd_Road_Class                               -0.124897        0.098219   \n",
       "2nd_Road_Number                              -0.018911       -0.030052   \n",
       "Urban_or_Rural_Area                           0.263910       -0.213495   \n",
       "\n",
       "                            1st_Road_Number  Speed_limit  Junction_Detail  \\\n",
       "Location_Easting_OSGR             -0.099017    -0.069761              NaN   \n",
       "Location_Northing_OSGR             0.055043     0.064186              NaN   \n",
       "Longitude                         -0.096585    -0.069084              NaN   \n",
       "Latitude                           0.055946     0.063912              NaN   \n",
       "Police_Force                       0.007602     0.204729              NaN   \n",
       "Accident_Severity                 -0.007502    -0.073219              NaN   \n",
       "Number_of_Vehicles                -0.008277     0.089665              NaN   \n",
       "Number_of_Casualties               0.006743     0.141020              NaN   \n",
       "Day_of_Week                        0.003172    -0.015876              NaN   \n",
       "Local_Authority_(District)         0.019247     0.212592              NaN   \n",
       "1st_Road_Class                    -0.083800    -0.380226              NaN   \n",
       "1st_Road_Number                    1.000000    -0.067390              NaN   \n",
       "Speed_limit                       -0.067390     1.000000              NaN   \n",
       "Junction_Detail                         NaN          NaN              NaN   \n",
       "2nd_Road_Class                     0.031523    -0.336064              NaN   \n",
       "2nd_Road_Number                    0.186657    -0.047418              NaN   \n",
       "Urban_or_Rural_Area               -0.018386     0.680879              NaN   \n",
       "\n",
       "                            2nd_Road_Class  2nd_Road_Number  \\\n",
       "Location_Easting_OSGR             0.057491        -0.024555   \n",
       "Location_Northing_OSGR           -0.047574         0.050909   \n",
       "Longitude                         0.057676        -0.022418   \n",
       "Latitude                         -0.047352         0.051648   \n",
       "Police_Force                     -0.123164        -0.022331   \n",
       "Accident_Severity                 0.059245         0.022077   \n",
       "Number_of_Vehicles                0.064620         0.022293   \n",
       "Number_of_Casualties             -0.030371         0.003012   \n",
       "Day_of_Week                       0.011538        -0.000495   \n",
       "Local_Authority_(District)       -0.124897        -0.018911   \n",
       "1st_Road_Class                    0.098219        -0.030052   \n",
       "1st_Road_Number                   0.031523         0.186657   \n",
       "Speed_limit                      -0.336064        -0.047418   \n",
       "Junction_Detail                        NaN              NaN   \n",
       "2nd_Road_Class                    1.000000         0.148090   \n",
       "2nd_Road_Number                   0.148090         1.000000   \n",
       "Urban_or_Rural_Area              -0.291616        -0.039443   \n",
       "\n",
       "                            Urban_or_Rural_Area  \n",
       "Location_Easting_OSGR                 -0.108093  \n",
       "Location_Northing_OSGR                 0.063538  \n",
       "Longitude                             -0.106236  \n",
       "Latitude                               0.063078  \n",
       "Police_Force                           0.248518  \n",
       "Accident_Severity                     -0.079522  \n",
       "Number_of_Vehicles                     0.044852  \n",
       "Number_of_Casualties                   0.114752  \n",
       "Day_of_Week                           -0.018107  \n",
       "Local_Authority_(District)             0.263910  \n",
       "1st_Road_Class                        -0.213495  \n",
       "1st_Road_Number                       -0.018386  \n",
       "Speed_limit                            0.680879  \n",
       "Junction_Detail                             NaN  \n",
       "2nd_Road_Class                        -0.291616  \n",
       "2nd_Road_Number                       -0.039443  \n",
       "Urban_or_Rural_Area                    1.000000  "
      ]
     },
     "execution_count": 135,
     "metadata": {},
     "output_type": "execute_result"
    }
   ],
   "source": [
    "df2.corr()"
   ]
  },
  {
   "cell_type": "code",
   "execution_count": 138,
   "id": "ac73ee64-78a0-4712-9b4d-f1a387616c07",
   "metadata": {},
   "outputs": [
    {
     "data": {
      "image/png": "[encoded data removed]",
      "text/plain": [
       "<Figure size 432x288 with 1 Axes>"
      ]
     },
     "metadata": {
      "needs_background": "light"
     },
     "output_type": "display_data"
    }
   ],
   "source": [
    "sns.countplot(data = df2, x='Accident_Severity', hue='Speed_limit');"
   ]
  },
  {
   "cell_type": "code",
   "execution_count": 144,
   "id": "94ec1652-e3df-431b-b18e-2c1067d3eb32",
   "metadata": {},
   "outputs": [],
   "source": [
    "severity_speed = df2.groupby(['Accident_Severity'])['Speed_limit'].mean()"
   ]
  },
  {
   "cell_type": "code",
   "execution_count": 147,
   "id": "188024c5-e380-4448-a671-a74a4d876bc2",
   "metadata": {},
   "outputs": [],
   "source": [
    "severity_speed = pd.DataFrame(severity_speed)"
   ]
  },
  {
   "cell_type": "code",
   "execution_count": 148,
   "id": "077f6acc-186e-47fc-9093-61c99d64a99b",
   "metadata": {},
   "outputs": [
    {
     "data": {
      "text/html": [
       "<div>\n",
       "<style scoped>\n",
       "    .dataframe tbody tr th:only-of-type {\n",
       "        vertical-align: middle;\n",
       "    }\n",
       "\n",
       "    .dataframe tbody tr th {\n",
       "        vertical-align: top;\n",
       "    }\n",
       "\n",
       "    .dataframe thead th {\n",
       "        text-align: right;\n",
       "    }\n",
       "</style>\n",
       "<table border=\"1\" class=\"dataframe\">\n",
       "  <thead>\n",
       "    <tr style=\"text-align: right;\">\n",
       "      <th></th>\n",
       "      <th>Speed_limit</th>\n",
       "    </tr>\n",
       "    <tr>\n",
       "      <th>Accident_Severity</th>\n",
       "      <th></th>\n",
       "    </tr>\n",
       "  </thead>\n",
       "  <tbody>\n",
       "    <tr>\n",
       "      <th>1</th>\n",
       "      <td>47.608901</td>\n",
       "    </tr>\n",
       "    <tr>\n",
       "      <th>2</th>\n",
       "      <td>39.566962</td>\n",
       "    </tr>\n",
       "    <tr>\n",
       "      <th>3</th>\n",
       "      <td>37.875653</td>\n",
       "    </tr>\n",
       "  </tbody>\n",
       "</table>\n",
       "</div>"
      ],
      "text/plain": [
       "                   Speed_limit\n",
       "Accident_Severity             \n",
       "1                    47.608901\n",
       "2                    39.566962\n",
       "3                    37.875653"
      ]
     },
     "execution_count": 148,
     "metadata": {},
     "output_type": "execute_result"
    }
   ],
   "source": [
    "severity_speed"
   ]
  },
  {
   "cell_type": "code",
   "execution_count": 154,
   "id": "751c4450-0938-499b-ba68-2b27130a291d",
   "metadata": {},
   "outputs": [],
   "source": [
    "severity_speed.reset_index(inplace=True)"
   ]
  },
  {
   "cell_type": "code",
   "execution_count": 156,
   "id": "5719400a-e15f-4b0c-ba99-cd9dfc83067a",
   "metadata": {},
   "outputs": [
    {
     "data": {
      "text/html": [
       "<div>\n",
       "<style scoped>\n",
       "    .dataframe tbody tr th:only-of-type {\n",
       "        vertical-align: middle;\n",
       "    }\n",
       "\n",
       "    .dataframe tbody tr th {\n",
       "        vertical-align: top;\n",
       "    }\n",
       "\n",
       "    .dataframe thead th {\n",
       "        text-align: right;\n",
       "    }\n",
       "</style>\n",
       "<table border=\"1\" class=\"dataframe\">\n",
       "  <thead>\n",
       "    <tr style=\"text-align: right;\">\n",
       "      <th></th>\n",
       "      <th>Accident_Severity</th>\n",
       "      <th>Speed_limit</th>\n",
       "    </tr>\n",
       "  </thead>\n",
       "  <tbody>\n",
       "    <tr>\n",
       "      <th>0</th>\n",
       "      <td>1</td>\n",
       "      <td>47.608901</td>\n",
       "    </tr>\n",
       "    <tr>\n",
       "      <th>1</th>\n",
       "      <td>2</td>\n",
       "      <td>39.566962</td>\n",
       "    </tr>\n",
       "    <tr>\n",
       "      <th>2</th>\n",
       "      <td>3</td>\n",
       "      <td>37.875653</td>\n",
       "    </tr>\n",
       "  </tbody>\n",
       "</table>\n",
       "</div>"
      ],
      "text/plain": [
       "   Accident_Severity  Speed_limit\n",
       "0                  1    47.608901\n",
       "1                  2    39.566962\n",
       "2                  3    37.875653"
      ]
     },
     "execution_count": 156,
     "metadata": {},
     "output_type": "execute_result"
    }
   ],
   "source": [
    "severity_speed"
   ]
  },
  {
   "cell_type": "code",
   "execution_count": 161,
   "id": "24844621-74fa-4a6b-9c2d-478848742ca9",
   "metadata": {},
   "outputs": [
    {
     "data": {
      "image/png": "[encoded data removed]",
      "text/plain": [
       "<Figure size 432x288 with 1 Axes>"
      ]
     },
     "metadata": {
      "needs_background": "light"
     },
     "output_type": "display_data"
    }
   ],
   "source": [
    "sns.barplot(data = severity_speed, x = 'Accident_Severity', y = 'Speed_limit');"
   ]
  },
  {
   "cell_type": "markdown",
   "id": "36566257-18a8-48cf-9570-8b56d2d00d9d",
   "metadata": {},
   "source": [
    "Data Source: Kaggle. 1.6 million UK traffic accidents. Retrieved from: https://www.kaggle.com/datasets/daveianhickey/2000-16-traffic-flow-england-scotland-wales. Access date: 11.05.2022"
   ]
  }
 ],
 "metadata": {
  "kernelspec": {
   "display_name": "Python 3 (ipykernel)",
   "language": "python",
   "name": "python3"
  },
  "language_info": {
   "codemirror_mode": {
    "name": "ipython",
    "version": 3
   },
   "file_extension": ".py",
   "mimetype": "text/x-python",
   "name": "python",
   "nbconvert_exporter": "python",
   "pygments_lexer": "ipython3",
   "version": "3.9.7"
  }
 },
 "nbformat": 4,
 "nbformat_minor": 5
}
